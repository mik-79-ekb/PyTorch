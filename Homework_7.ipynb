{
  "nbformat": 4,
  "nbformat_minor": 0,
  "metadata": {
    "colab": {
      "provenance": []
    },
    "kernelspec": {
      "name": "python3",
      "display_name": "Python 3"
    },
    "language_info": {
      "name": "python"
    },
    "accelerator": "GPU",
    "gpuClass": "standard"
  },
  "cells": [
    {
      "cell_type": "markdown",
      "metadata": {
        "id": "Y0rwfdXCR-yz"
      },
      "source": [
        "## Фреймворк PyTorch для разработки искусственных нейронных сетей"
      ]
    },
    {
      "cell_type": "markdown",
      "source": [
        "### Домашнее задание №7"
      ],
      "metadata": {
        "id": "z3KRjBR_4ZYF"
      }
    },
    {
      "cell_type": "markdown",
      "source": [
        "**Урок 7. Рекурентные сети для обработки последовательностей**"
      ],
      "metadata": {
        "id": "Uf-qtUjv4cyw"
      }
    },
    {
      "cell_type": "markdown",
      "source": [
        "Попробуйте обучить нейронную сеть GRU/LSTM для предсказания сентимента сообщений с твитера на примере https://www.kaggle.com/datasets/arkhoshghalb/twitter-sentiment-analysis-hatred-speech\n",
        "\n",
        "Опишите, какой результат вы получили? Что помогло вам улучшить ее точность?"
      ],
      "metadata": {
        "id": "FU7m1xwB494q"
      }
    },
    {
      "cell_type": "markdown",
      "source": [
        "**Библиотеки**"
      ],
      "metadata": {
        "id": "Ni7nx4o-Cajk"
      }
    },
    {
      "cell_type": "code",
      "source": [
        "!pip install stop-words pymorphy2"
      ],
      "metadata": {
        "colab": {
          "base_uri": "https://localhost:8080/"
        },
        "id": "ppQEfjCBCxL-",
        "outputId": "968b5eb1-2bea-47e8-a90d-29710aa4f893"
      },
      "execution_count": 1,
      "outputs": [
        {
          "output_type": "stream",
          "name": "stdout",
          "text": [
            "Looking in indexes: https://pypi.org/simple, https://us-python.pkg.dev/colab-wheels/public/simple/\n",
            "Requirement already satisfied: stop-words in /usr/local/lib/python3.9/dist-packages (2018.7.23)\n",
            "Requirement already satisfied: pymorphy2 in /usr/local/lib/python3.9/dist-packages (0.9.1)\n",
            "Requirement already satisfied: dawg-python>=0.7.1 in /usr/local/lib/python3.9/dist-packages (from pymorphy2) (0.7.2)\n",
            "Requirement already satisfied: pymorphy2-dicts-ru<3.0,>=2.4 in /usr/local/lib/python3.9/dist-packages (from pymorphy2) (2.4.417127.4579844)\n",
            "Requirement already satisfied: docopt>=0.6 in /usr/local/lib/python3.9/dist-packages (from pymorphy2) (0.6.2)\n"
          ]
        }
      ]
    },
    {
      "cell_type": "code",
      "source": [
        "import pandas as pd\n",
        "import numpy as np\n",
        "import torch\n",
        "import torch.nn as nn\n",
        "import torch.nn.functional as F\n",
        "\n",
        "from torch.utils.data import DataLoader, Dataset\n",
        "from sklearn.model_selection import train_test_split\n",
        "\n",
        "import nltk\n",
        "from nltk.tokenize import word_tokenize\n",
        "from nltk.stem import WordNetLemmatizer\n",
        "nltk.download('wordnet')\n",
        "nltk.download(\"punkt\")\n",
        "\n",
        "from string import punctuation\n",
        "from stop_words import get_stop_words\n",
        "from pymorphy2 import MorphAnalyzer\n",
        "\n",
        "import re"
      ],
      "metadata": {
        "colab": {
          "base_uri": "https://localhost:8080/"
        },
        "id": "1UPKj-tUCSBj",
        "outputId": "b0ea5659-668d-4a89-d5e6-569c7984124c"
      },
      "execution_count": 2,
      "outputs": [
        {
          "output_type": "stream",
          "name": "stderr",
          "text": [
            "[nltk_data] Downloading package wordnet to /root/nltk_data...\n",
            "[nltk_data]   Package wordnet is already up-to-date!\n",
            "[nltk_data] Downloading package punkt to /root/nltk_data...\n",
            "[nltk_data]   Package punkt is already up-to-date!\n"
          ]
        }
      ]
    },
    {
      "cell_type": "markdown",
      "source": [
        "**Подключение токена kaggle для загрузки датасета**"
      ],
      "metadata": {
        "id": "rg2hu8heDA8C"
      }
    },
    {
      "cell_type": "code",
      "execution_count": 3,
      "metadata": {
        "id": "ZwjP9Fi64Mu-"
      },
      "outputs": [],
      "source": [
        "from google.colab import files"
      ]
    },
    {
      "cell_type": "code",
      "execution_count": 4,
      "metadata": {
        "colab": {
          "base_uri": "https://localhost:8080/",
          "height": 73
        },
        "id": "2nIjR_zCrJPe",
        "outputId": "b8343115-288e-4afb-fd6b-838d6dbc9f17"
      },
      "outputs": [
        {
          "output_type": "display_data",
          "data": {
            "text/plain": [
              "<IPython.core.display.HTML object>"
            ],
            "text/html": [
              "\n",
              "     <input type=\"file\" id=\"files-5882b671-769c-4598-be87-fa079bb091ff\" name=\"files[]\" multiple disabled\n",
              "        style=\"border:none\" />\n",
              "     <output id=\"result-5882b671-769c-4598-be87-fa079bb091ff\">\n",
              "      Upload widget is only available when the cell has been executed in the\n",
              "      current browser session. Please rerun this cell to enable.\n",
              "      </output>\n",
              "      <script>// Copyright 2017 Google LLC\n",
              "//\n",
              "// Licensed under the Apache License, Version 2.0 (the \"License\");\n",
              "// you may not use this file except in compliance with the License.\n",
              "// You may obtain a copy of the License at\n",
              "//\n",
              "//      http://www.apache.org/licenses/LICENSE-2.0\n",
              "//\n",
              "// Unless required by applicable law or agreed to in writing, software\n",
              "// distributed under the License is distributed on an \"AS IS\" BASIS,\n",
              "// WITHOUT WARRANTIES OR CONDITIONS OF ANY KIND, either express or implied.\n",
              "// See the License for the specific language governing permissions and\n",
              "// limitations under the License.\n",
              "\n",
              "/**\n",
              " * @fileoverview Helpers for google.colab Python module.\n",
              " */\n",
              "(function(scope) {\n",
              "function span(text, styleAttributes = {}) {\n",
              "  const element = document.createElement('span');\n",
              "  element.textContent = text;\n",
              "  for (const key of Object.keys(styleAttributes)) {\n",
              "    element.style[key] = styleAttributes[key];\n",
              "  }\n",
              "  return element;\n",
              "}\n",
              "\n",
              "// Max number of bytes which will be uploaded at a time.\n",
              "const MAX_PAYLOAD_SIZE = 100 * 1024;\n",
              "\n",
              "function _uploadFiles(inputId, outputId) {\n",
              "  const steps = uploadFilesStep(inputId, outputId);\n",
              "  const outputElement = document.getElementById(outputId);\n",
              "  // Cache steps on the outputElement to make it available for the next call\n",
              "  // to uploadFilesContinue from Python.\n",
              "  outputElement.steps = steps;\n",
              "\n",
              "  return _uploadFilesContinue(outputId);\n",
              "}\n",
              "\n",
              "// This is roughly an async generator (not supported in the browser yet),\n",
              "// where there are multiple asynchronous steps and the Python side is going\n",
              "// to poll for completion of each step.\n",
              "// This uses a Promise to block the python side on completion of each step,\n",
              "// then passes the result of the previous step as the input to the next step.\n",
              "function _uploadFilesContinue(outputId) {\n",
              "  const outputElement = document.getElementById(outputId);\n",
              "  const steps = outputElement.steps;\n",
              "\n",
              "  const next = steps.next(outputElement.lastPromiseValue);\n",
              "  return Promise.resolve(next.value.promise).then((value) => {\n",
              "    // Cache the last promise value to make it available to the next\n",
              "    // step of the generator.\n",
              "    outputElement.lastPromiseValue = value;\n",
              "    return next.value.response;\n",
              "  });\n",
              "}\n",
              "\n",
              "/**\n",
              " * Generator function which is called between each async step of the upload\n",
              " * process.\n",
              " * @param {string} inputId Element ID of the input file picker element.\n",
              " * @param {string} outputId Element ID of the output display.\n",
              " * @return {!Iterable<!Object>} Iterable of next steps.\n",
              " */\n",
              "function* uploadFilesStep(inputId, outputId) {\n",
              "  const inputElement = document.getElementById(inputId);\n",
              "  inputElement.disabled = false;\n",
              "\n",
              "  const outputElement = document.getElementById(outputId);\n",
              "  outputElement.innerHTML = '';\n",
              "\n",
              "  const pickedPromise = new Promise((resolve) => {\n",
              "    inputElement.addEventListener('change', (e) => {\n",
              "      resolve(e.target.files);\n",
              "    });\n",
              "  });\n",
              "\n",
              "  const cancel = document.createElement('button');\n",
              "  inputElement.parentElement.appendChild(cancel);\n",
              "  cancel.textContent = 'Cancel upload';\n",
              "  const cancelPromise = new Promise((resolve) => {\n",
              "    cancel.onclick = () => {\n",
              "      resolve(null);\n",
              "    };\n",
              "  });\n",
              "\n",
              "  // Wait for the user to pick the files.\n",
              "  const files = yield {\n",
              "    promise: Promise.race([pickedPromise, cancelPromise]),\n",
              "    response: {\n",
              "      action: 'starting',\n",
              "    }\n",
              "  };\n",
              "\n",
              "  cancel.remove();\n",
              "\n",
              "  // Disable the input element since further picks are not allowed.\n",
              "  inputElement.disabled = true;\n",
              "\n",
              "  if (!files) {\n",
              "    return {\n",
              "      response: {\n",
              "        action: 'complete',\n",
              "      }\n",
              "    };\n",
              "  }\n",
              "\n",
              "  for (const file of files) {\n",
              "    const li = document.createElement('li');\n",
              "    li.append(span(file.name, {fontWeight: 'bold'}));\n",
              "    li.append(span(\n",
              "        `(${file.type || 'n/a'}) - ${file.size} bytes, ` +\n",
              "        `last modified: ${\n",
              "            file.lastModifiedDate ? file.lastModifiedDate.toLocaleDateString() :\n",
              "                                    'n/a'} - `));\n",
              "    const percent = span('0% done');\n",
              "    li.appendChild(percent);\n",
              "\n",
              "    outputElement.appendChild(li);\n",
              "\n",
              "    const fileDataPromise = new Promise((resolve) => {\n",
              "      const reader = new FileReader();\n",
              "      reader.onload = (e) => {\n",
              "        resolve(e.target.result);\n",
              "      };\n",
              "      reader.readAsArrayBuffer(file);\n",
              "    });\n",
              "    // Wait for the data to be ready.\n",
              "    let fileData = yield {\n",
              "      promise: fileDataPromise,\n",
              "      response: {\n",
              "        action: 'continue',\n",
              "      }\n",
              "    };\n",
              "\n",
              "    // Use a chunked sending to avoid message size limits. See b/62115660.\n",
              "    let position = 0;\n",
              "    do {\n",
              "      const length = Math.min(fileData.byteLength - position, MAX_PAYLOAD_SIZE);\n",
              "      const chunk = new Uint8Array(fileData, position, length);\n",
              "      position += length;\n",
              "\n",
              "      const base64 = btoa(String.fromCharCode.apply(null, chunk));\n",
              "      yield {\n",
              "        response: {\n",
              "          action: 'append',\n",
              "          file: file.name,\n",
              "          data: base64,\n",
              "        },\n",
              "      };\n",
              "\n",
              "      let percentDone = fileData.byteLength === 0 ?\n",
              "          100 :\n",
              "          Math.round((position / fileData.byteLength) * 100);\n",
              "      percent.textContent = `${percentDone}% done`;\n",
              "\n",
              "    } while (position < fileData.byteLength);\n",
              "  }\n",
              "\n",
              "  // All done.\n",
              "  yield {\n",
              "    response: {\n",
              "      action: 'complete',\n",
              "    }\n",
              "  };\n",
              "}\n",
              "\n",
              "scope.google = scope.google || {};\n",
              "scope.google.colab = scope.google.colab || {};\n",
              "scope.google.colab._files = {\n",
              "  _uploadFiles,\n",
              "  _uploadFilesContinue,\n",
              "};\n",
              "})(self);\n",
              "</script> "
            ]
          },
          "metadata": {}
        },
        {
          "output_type": "stream",
          "name": "stdout",
          "text": [
            "Saving kaggle.json to kaggle.json\n"
          ]
        }
      ],
      "source": [
        "uploaded = files.upload()\n",
        "\n",
        "!mkdir -p ~/.kaggle/ && mv kaggle.json ~/.kaggle/ && chmod 600 ~/.kaggle/kaggle.json"
      ]
    },
    {
      "cell_type": "markdown",
      "source": [
        "**Загрузка и распаковка датасета**"
      ],
      "metadata": {
        "id": "M_epBWtHDizW"
      }
    },
    {
      "cell_type": "code",
      "source": [
        "!kaggle datasets download -d arkhoshghalb/twitter-sentiment-analysis-hatred-speech"
      ],
      "metadata": {
        "colab": {
          "base_uri": "https://localhost:8080/"
        },
        "id": "-YTowlSWBJaM",
        "outputId": "3c66398b-60fb-4ff7-ee15-1e6cae5d13f8"
      },
      "execution_count": 5,
      "outputs": [
        {
          "output_type": "stream",
          "name": "stdout",
          "text": [
            "twitter-sentiment-analysis-hatred-speech.zip: Skipping, found more recently modified local copy (use --force to force download)\n"
          ]
        }
      ]
    },
    {
      "cell_type": "code",
      "source": [
        "!unzip twitter-sentiment-analysis-hatred-speech.zip"
      ],
      "metadata": {
        "colab": {
          "base_uri": "https://localhost:8080/"
        },
        "id": "GIizVyKMCB5h",
        "outputId": "a09e825f-7c22-44a0-9628-d4e175c49d5b"
      },
      "execution_count": 6,
      "outputs": [
        {
          "output_type": "stream",
          "name": "stdout",
          "text": [
            "Archive:  twitter-sentiment-analysis-hatred-speech.zip\n",
            "replace test.csv? [y]es, [n]o, [A]ll, [N]one, [r]ename: A\n",
            "  inflating: test.csv                \n",
            "  inflating: train.csv               \n"
          ]
        }
      ]
    },
    {
      "cell_type": "markdown",
      "source": [
        "**Параметры обучения**"
      ],
      "metadata": {
        "id": "cSXknMiJFDas"
      }
    },
    {
      "cell_type": "code",
      "source": [
        "max_words = 10000\n",
        "max_len = 30\n",
        "num_classes = 1\n",
        "\n",
        "epochs = 20\n",
        "batch_size = 512\n",
        "print_batch_n = 100"
      ],
      "metadata": {
        "id": "lap-0r7uE83I"
      },
      "execution_count": 7,
      "outputs": []
    },
    {
      "cell_type": "code",
      "source": [
        "train_df = pd.read_csv('train.csv')\n",
        "train_df.head()"
      ],
      "metadata": {
        "colab": {
          "base_uri": "https://localhost:8080/",
          "height": 206
        },
        "id": "HpBTAjM7CCFk",
        "outputId": "a04f47c5-ba88-4c92-f4e4-e8cdba458ff9"
      },
      "execution_count": 8,
      "outputs": [
        {
          "output_type": "execute_result",
          "data": {
            "text/plain": [
              "   id  label                                              tweet\n",
              "0   1      0   @user when a father is dysfunctional and is s...\n",
              "1   2      0  @user @user thanks for #lyft credit i can't us...\n",
              "2   3      0                                bihday your majesty\n",
              "3   4      0  #model   i love u take with u all the time in ...\n",
              "4   5      0             factsguide: society now    #motivation"
            ],
            "text/html": [
              "\n",
              "  <div id=\"df-ad4230c9-6d41-4fd2-9ff4-79fbcd6b2d7d\">\n",
              "    <div class=\"colab-df-container\">\n",
              "      <div>\n",
              "<style scoped>\n",
              "    .dataframe tbody tr th:only-of-type {\n",
              "        vertical-align: middle;\n",
              "    }\n",
              "\n",
              "    .dataframe tbody tr th {\n",
              "        vertical-align: top;\n",
              "    }\n",
              "\n",
              "    .dataframe thead th {\n",
              "        text-align: right;\n",
              "    }\n",
              "</style>\n",
              "<table border=\"1\" class=\"dataframe\">\n",
              "  <thead>\n",
              "    <tr style=\"text-align: right;\">\n",
              "      <th></th>\n",
              "      <th>id</th>\n",
              "      <th>label</th>\n",
              "      <th>tweet</th>\n",
              "    </tr>\n",
              "  </thead>\n",
              "  <tbody>\n",
              "    <tr>\n",
              "      <th>0</th>\n",
              "      <td>1</td>\n",
              "      <td>0</td>\n",
              "      <td>@user when a father is dysfunctional and is s...</td>\n",
              "    </tr>\n",
              "    <tr>\n",
              "      <th>1</th>\n",
              "      <td>2</td>\n",
              "      <td>0</td>\n",
              "      <td>@user @user thanks for #lyft credit i can't us...</td>\n",
              "    </tr>\n",
              "    <tr>\n",
              "      <th>2</th>\n",
              "      <td>3</td>\n",
              "      <td>0</td>\n",
              "      <td>bihday your majesty</td>\n",
              "    </tr>\n",
              "    <tr>\n",
              "      <th>3</th>\n",
              "      <td>4</td>\n",
              "      <td>0</td>\n",
              "      <td>#model   i love u take with u all the time in ...</td>\n",
              "    </tr>\n",
              "    <tr>\n",
              "      <th>4</th>\n",
              "      <td>5</td>\n",
              "      <td>0</td>\n",
              "      <td>factsguide: society now    #motivation</td>\n",
              "    </tr>\n",
              "  </tbody>\n",
              "</table>\n",
              "</div>\n",
              "      <button class=\"colab-df-convert\" onclick=\"convertToInteractive('df-ad4230c9-6d41-4fd2-9ff4-79fbcd6b2d7d')\"\n",
              "              title=\"Convert this dataframe to an interactive table.\"\n",
              "              style=\"display:none;\">\n",
              "        \n",
              "  <svg xmlns=\"http://www.w3.org/2000/svg\" height=\"24px\"viewBox=\"0 0 24 24\"\n",
              "       width=\"24px\">\n",
              "    <path d=\"M0 0h24v24H0V0z\" fill=\"none\"/>\n",
              "    <path d=\"M18.56 5.44l.94 2.06.94-2.06 2.06-.94-2.06-.94-.94-2.06-.94 2.06-2.06.94zm-11 1L8.5 8.5l.94-2.06 2.06-.94-2.06-.94L8.5 2.5l-.94 2.06-2.06.94zm10 10l.94 2.06.94-2.06 2.06-.94-2.06-.94-.94-2.06-.94 2.06-2.06.94z\"/><path d=\"M17.41 7.96l-1.37-1.37c-.4-.4-.92-.59-1.43-.59-.52 0-1.04.2-1.43.59L10.3 9.45l-7.72 7.72c-.78.78-.78 2.05 0 2.83L4 21.41c.39.39.9.59 1.41.59.51 0 1.02-.2 1.41-.59l7.78-7.78 2.81-2.81c.8-.78.8-2.07 0-2.86zM5.41 20L4 18.59l7.72-7.72 1.47 1.35L5.41 20z\"/>\n",
              "  </svg>\n",
              "      </button>\n",
              "      \n",
              "  <style>\n",
              "    .colab-df-container {\n",
              "      display:flex;\n",
              "      flex-wrap:wrap;\n",
              "      gap: 12px;\n",
              "    }\n",
              "\n",
              "    .colab-df-convert {\n",
              "      background-color: #E8F0FE;\n",
              "      border: none;\n",
              "      border-radius: 50%;\n",
              "      cursor: pointer;\n",
              "      display: none;\n",
              "      fill: #1967D2;\n",
              "      height: 32px;\n",
              "      padding: 0 0 0 0;\n",
              "      width: 32px;\n",
              "    }\n",
              "\n",
              "    .colab-df-convert:hover {\n",
              "      background-color: #E2EBFA;\n",
              "      box-shadow: 0px 1px 2px rgba(60, 64, 67, 0.3), 0px 1px 3px 1px rgba(60, 64, 67, 0.15);\n",
              "      fill: #174EA6;\n",
              "    }\n",
              "\n",
              "    [theme=dark] .colab-df-convert {\n",
              "      background-color: #3B4455;\n",
              "      fill: #D2E3FC;\n",
              "    }\n",
              "\n",
              "    [theme=dark] .colab-df-convert:hover {\n",
              "      background-color: #434B5C;\n",
              "      box-shadow: 0px 1px 3px 1px rgba(0, 0, 0, 0.15);\n",
              "      filter: drop-shadow(0px 1px 2px rgba(0, 0, 0, 0.3));\n",
              "      fill: #FFFFFF;\n",
              "    }\n",
              "  </style>\n",
              "\n",
              "      <script>\n",
              "        const buttonEl =\n",
              "          document.querySelector('#df-ad4230c9-6d41-4fd2-9ff4-79fbcd6b2d7d button.colab-df-convert');\n",
              "        buttonEl.style.display =\n",
              "          google.colab.kernel.accessAllowed ? 'block' : 'none';\n",
              "\n",
              "        async function convertToInteractive(key) {\n",
              "          const element = document.querySelector('#df-ad4230c9-6d41-4fd2-9ff4-79fbcd6b2d7d');\n",
              "          const dataTable =\n",
              "            await google.colab.kernel.invokeFunction('convertToInteractive',\n",
              "                                                     [key], {});\n",
              "          if (!dataTable) return;\n",
              "\n",
              "          const docLinkHtml = 'Like what you see? Visit the ' +\n",
              "            '<a target=\"_blank\" href=https://colab.research.google.com/notebooks/data_table.ipynb>data table notebook</a>'\n",
              "            + ' to learn more about interactive tables.';\n",
              "          element.innerHTML = '';\n",
              "          dataTable['output_type'] = 'display_data';\n",
              "          await google.colab.output.renderOutput(dataTable, element);\n",
              "          const docLink = document.createElement('div');\n",
              "          docLink.innerHTML = docLinkHtml;\n",
              "          element.appendChild(docLink);\n",
              "        }\n",
              "      </script>\n",
              "    </div>\n",
              "  </div>\n",
              "  "
            ]
          },
          "metadata": {},
          "execution_count": 8
        }
      ]
    },
    {
      "cell_type": "code",
      "source": [
        "train_df.label.value_counts()"
      ],
      "metadata": {
        "colab": {
          "base_uri": "https://localhost:8080/"
        },
        "id": "DZ5IKteXFM2L",
        "outputId": "79b55f86-2c96-4ff4-bee1-5e1c799cc2c2"
      },
      "execution_count": 9,
      "outputs": [
        {
          "output_type": "execute_result",
          "data": {
            "text/plain": [
              "0    29720\n",
              "1     2242\n",
              "Name: label, dtype: int64"
            ]
          },
          "metadata": {},
          "execution_count": 9
        }
      ]
    },
    {
      "cell_type": "markdown",
      "source": [
        "Разобьем обучающий датасет на тренировочную и валидационную выборки"
      ],
      "metadata": {
        "id": "sctDJQDyFlPJ"
      }
    },
    {
      "cell_type": "code",
      "source": [
        "X_train, X_valid = train_test_split(train_df, test_size=0.25, random_state=42)\n",
        "X_train.shape, X_valid.shape"
      ],
      "metadata": {
        "colab": {
          "base_uri": "https://localhost:8080/"
        },
        "id": "2KVddlNjFM4s",
        "outputId": "a13c4574-f9fb-4cfb-ac10-cbc307c9676f"
      },
      "execution_count": 10,
      "outputs": [
        {
          "output_type": "execute_result",
          "data": {
            "text/plain": [
              "((23971, 3), (7991, 3))"
            ]
          },
          "metadata": {},
          "execution_count": 10
        }
      ]
    },
    {
      "cell_type": "code",
      "source": [
        "X_train.label.value_counts()"
      ],
      "metadata": {
        "colab": {
          "base_uri": "https://localhost:8080/"
        },
        "id": "Zisz872MFM9s",
        "outputId": "0ae35c31-bcab-4821-d3d7-5e1d41f6859f"
      },
      "execution_count": 11,
      "outputs": [
        {
          "output_type": "execute_result",
          "data": {
            "text/plain": [
              "0    22288\n",
              "1     1683\n",
              "Name: label, dtype: int64"
            ]
          },
          "metadata": {},
          "execution_count": 11
        }
      ]
    },
    {
      "cell_type": "code",
      "source": [
        "X_valid.label.value_counts()"
      ],
      "metadata": {
        "colab": {
          "base_uri": "https://localhost:8080/"
        },
        "id": "Iuq75FTiFNAA",
        "outputId": "49caad80-2a85-426f-829a-c486f95083be"
      },
      "execution_count": 12,
      "outputs": [
        {
          "output_type": "execute_result",
          "data": {
            "text/plain": [
              "0    7432\n",
              "1     559\n",
              "Name: label, dtype: int64"
            ]
          },
          "metadata": {},
          "execution_count": 12
        }
      ]
    },
    {
      "cell_type": "markdown",
      "source": [
        "Произведем предобработку датасета"
      ],
      "metadata": {
        "id": "HnzCHkctF0xs"
      }
    },
    {
      "cell_type": "code",
      "source": [
        "sw = set(get_stop_words(\"en\"))\n",
        "sw"
      ],
      "metadata": {
        "colab": {
          "base_uri": "https://localhost:8080/"
        },
        "id": "i6C0MFafFNCY",
        "outputId": "cf5a166a-6bd2-4027-ff1d-0ef2f03ccf5c"
      },
      "execution_count": 13,
      "outputs": [
        {
          "output_type": "execute_result",
          "data": {
            "text/plain": [
              "{'a',\n",
              " 'about',\n",
              " 'above',\n",
              " 'after',\n",
              " 'again',\n",
              " 'against',\n",
              " 'all',\n",
              " 'am',\n",
              " 'an',\n",
              " 'and',\n",
              " 'any',\n",
              " 'are',\n",
              " \"aren't\",\n",
              " 'as',\n",
              " 'at',\n",
              " 'be',\n",
              " 'because',\n",
              " 'been',\n",
              " 'before',\n",
              " 'being',\n",
              " 'below',\n",
              " 'between',\n",
              " 'both',\n",
              " 'but',\n",
              " 'by',\n",
              " \"can't\",\n",
              " 'cannot',\n",
              " 'could',\n",
              " \"couldn't\",\n",
              " 'did',\n",
              " \"didn't\",\n",
              " 'do',\n",
              " 'does',\n",
              " \"doesn't\",\n",
              " 'doing',\n",
              " \"don't\",\n",
              " 'down',\n",
              " 'during',\n",
              " 'each',\n",
              " 'few',\n",
              " 'for',\n",
              " 'from',\n",
              " 'further',\n",
              " 'had',\n",
              " \"hadn't\",\n",
              " 'has',\n",
              " \"hasn't\",\n",
              " 'have',\n",
              " \"haven't\",\n",
              " 'having',\n",
              " 'he',\n",
              " \"he'd\",\n",
              " \"he'll\",\n",
              " \"he's\",\n",
              " 'her',\n",
              " 'here',\n",
              " \"here's\",\n",
              " 'hers',\n",
              " 'herself',\n",
              " 'him',\n",
              " 'himself',\n",
              " 'his',\n",
              " 'how',\n",
              " \"how's\",\n",
              " 'i',\n",
              " \"i'd\",\n",
              " \"i'll\",\n",
              " \"i'm\",\n",
              " \"i've\",\n",
              " 'if',\n",
              " 'in',\n",
              " 'into',\n",
              " 'is',\n",
              " \"isn't\",\n",
              " 'it',\n",
              " \"it's\",\n",
              " 'its',\n",
              " 'itself',\n",
              " \"let's\",\n",
              " 'me',\n",
              " 'more',\n",
              " 'most',\n",
              " \"mustn't\",\n",
              " 'my',\n",
              " 'myself',\n",
              " 'no',\n",
              " 'nor',\n",
              " 'not',\n",
              " 'of',\n",
              " 'off',\n",
              " 'on',\n",
              " 'once',\n",
              " 'only',\n",
              " 'or',\n",
              " 'other',\n",
              " 'ought',\n",
              " 'our',\n",
              " 'ours',\n",
              " 'ourselves',\n",
              " 'out',\n",
              " 'over',\n",
              " 'own',\n",
              " 'same',\n",
              " \"shan't\",\n",
              " 'she',\n",
              " \"she'd\",\n",
              " \"she'll\",\n",
              " \"she's\",\n",
              " 'should',\n",
              " \"shouldn't\",\n",
              " 'so',\n",
              " 'some',\n",
              " 'such',\n",
              " 'than',\n",
              " 'that',\n",
              " \"that's\",\n",
              " 'the',\n",
              " 'their',\n",
              " 'theirs',\n",
              " 'them',\n",
              " 'themselves',\n",
              " 'then',\n",
              " 'there',\n",
              " \"there's\",\n",
              " 'these',\n",
              " 'they',\n",
              " \"they'd\",\n",
              " \"they'll\",\n",
              " \"they're\",\n",
              " \"they've\",\n",
              " 'this',\n",
              " 'those',\n",
              " 'through',\n",
              " 'to',\n",
              " 'too',\n",
              " 'under',\n",
              " 'until',\n",
              " 'up',\n",
              " 'very',\n",
              " 'was',\n",
              " \"wasn't\",\n",
              " 'we',\n",
              " \"we'd\",\n",
              " \"we'll\",\n",
              " \"we're\",\n",
              " \"we've\",\n",
              " 'were',\n",
              " \"weren't\",\n",
              " 'what',\n",
              " \"what's\",\n",
              " 'when',\n",
              " \"when's\",\n",
              " 'where',\n",
              " \"where's\",\n",
              " 'which',\n",
              " 'while',\n",
              " 'who',\n",
              " \"who's\",\n",
              " 'whom',\n",
              " 'why',\n",
              " \"why's\",\n",
              " 'with',\n",
              " \"won't\",\n",
              " 'would',\n",
              " \"wouldn't\",\n",
              " 'you',\n",
              " \"you'd\",\n",
              " \"you'll\",\n",
              " \"you're\",\n",
              " \"you've\",\n",
              " 'your',\n",
              " 'yours',\n",
              " 'yourself',\n",
              " 'yourselves'}"
            ]
          },
          "metadata": {},
          "execution_count": 13
        }
      ]
    },
    {
      "cell_type": "code",
      "source": [
        "puncts = set(punctuation)\n",
        "puncts"
      ],
      "metadata": {
        "colab": {
          "base_uri": "https://localhost:8080/"
        },
        "id": "B7cvWlFsFNEv",
        "outputId": "2c16d63a-deb2-45a8-9ca2-1705b3f477fe"
      },
      "execution_count": 14,
      "outputs": [
        {
          "output_type": "execute_result",
          "data": {
            "text/plain": [
              "{'!',\n",
              " '\"',\n",
              " '#',\n",
              " '$',\n",
              " '%',\n",
              " '&',\n",
              " \"'\",\n",
              " '(',\n",
              " ')',\n",
              " '*',\n",
              " '+',\n",
              " ',',\n",
              " '-',\n",
              " '.',\n",
              " '/',\n",
              " ':',\n",
              " ';',\n",
              " '<',\n",
              " '=',\n",
              " '>',\n",
              " '?',\n",
              " '@',\n",
              " '[',\n",
              " '\\\\',\n",
              " ']',\n",
              " '^',\n",
              " '_',\n",
              " '`',\n",
              " '{',\n",
              " '|',\n",
              " '}',\n",
              " '~'}"
            ]
          },
          "metadata": {},
          "execution_count": 14
        }
      ]
    },
    {
      "cell_type": "code",
      "source": [
        "morpher = WordNetLemmatizer()\n",
        "morpher.lemmatize('cats')"
      ],
      "metadata": {
        "colab": {
          "base_uri": "https://localhost:8080/",
          "height": 36
        },
        "id": "hHfDyNUsGPd3",
        "outputId": "8ad01dc3-2970-4927-9052-d57b9773cda0"
      },
      "execution_count": 15,
      "outputs": [
        {
          "output_type": "execute_result",
          "data": {
            "text/plain": [
              "'cat'"
            ],
            "application/vnd.google.colaboratory.intrinsic+json": {
              "type": "string"
            }
          },
          "metadata": {},
          "execution_count": 15
        }
      ]
    },
    {
      "cell_type": "code",
      "source": [
        "def preprocess_text(txt):\n",
        "    txt = str(txt)\n",
        "    txt = \"\".join(c for c in txt if c not in puncts)\n",
        "    txt = txt.lower()\n",
        "    txt = [morpher.lemmatize(word) for word in txt.split() if word not in sw]\n",
        "    return \" \".join(txt)"
      ],
      "metadata": {
        "id": "3RsvJCX7GPmJ"
      },
      "execution_count": 16,
      "outputs": []
    },
    {
      "cell_type": "code",
      "source": [
        "from tqdm import tqdm \n",
        "tqdm.pandas()\n",
        "\n",
        "X_train.tweet = X_train.tweet.progress_apply(preprocess_text)\n",
        "X_valid.tweet = X_valid.tweet.progress_apply(preprocess_text)"
      ],
      "metadata": {
        "colab": {
          "base_uri": "https://localhost:8080/"
        },
        "id": "wuPKIHC3GPo_",
        "outputId": "09d215ab-ca1f-4d0f-bbc8-2eac5f17ab25"
      },
      "execution_count": 17,
      "outputs": [
        {
          "output_type": "stream",
          "name": "stderr",
          "text": [
            "100%|██████████| 23971/23971 [00:01<00:00, 14112.27it/s]\n",
            "100%|██████████| 7991/7991 [00:00<00:00, 23138.24it/s]\n"
          ]
        }
      ]
    },
    {
      "cell_type": "code",
      "source": [
        "train_corpus = \" \".join(X_train.tweet)\n",
        "train_corpus = train_corpus.lower()\n",
        "tokens = word_tokenize(train_corpus)\n",
        "tokens[:15]"
      ],
      "metadata": {
        "colab": {
          "base_uri": "https://localhost:8080/"
        },
        "id": "gErdePYRGPq-",
        "outputId": "d5caa2fd-a93a-4f22-c3d3-8bdcda9fa23a"
      },
      "execution_count": 18,
      "outputs": [
        {
          "output_type": "execute_result",
          "data": {
            "text/plain": [
              "['weekend',\n",
              " 'world',\n",
              " 'really',\n",
              " 'going',\n",
              " 'bonkers',\n",
              " 'really',\n",
              " 'bad',\n",
              " 'atm',\n",
              " 'shooting',\n",
              " 'deathstroke',\n",
              " 'violence',\n",
              " 'hooligan',\n",
              " 'euro',\n",
              " 'made',\n",
              " 'night']"
            ]
          },
          "metadata": {},
          "execution_count": 18
        }
      ]
    },
    {
      "cell_type": "markdown",
      "source": [
        "Отфильтруем данные и соберём в корпус N наиболее частых токенов"
      ],
      "metadata": {
        "id": "QmhFM7BaJLX9"
      }
    },
    {
      "cell_type": "code",
      "source": [
        "tokens_filtered = [word for word in tokens if word.isalnum()]"
      ],
      "metadata": {
        "id": "coXXOkZmGPtV"
      },
      "execution_count": 19,
      "outputs": []
    },
    {
      "cell_type": "code",
      "source": [
        "from nltk.probability import FreqDist\n",
        "\n",
        "dist = FreqDist(tokens_filtered)\n",
        "tokens_filtered_top = [pair[0] for pair in dist.most_common(max_words-1)]\n",
        "len(tokens_filtered_top)"
      ],
      "metadata": {
        "colab": {
          "base_uri": "https://localhost:8080/"
        },
        "id": "YSxq_LFvGPvj",
        "outputId": "1f6f18a0-f85d-47f7-fb59-4f41aa39928b"
      },
      "execution_count": 20,
      "outputs": [
        {
          "output_type": "execute_result",
          "data": {
            "text/plain": [
              "9999"
            ]
          },
          "metadata": {},
          "execution_count": 20
        }
      ]
    },
    {
      "cell_type": "code",
      "source": [
        "tokens_filtered_top[:15]"
      ],
      "metadata": {
        "colab": {
          "base_uri": "https://localhost:8080/"
        },
        "id": "sePKMEHNGPxu",
        "outputId": "56ba734f-107a-444b-9ad0-f64ccdf9d8b4"
      },
      "execution_count": 21,
      "outputs": [
        {
          "output_type": "execute_result",
          "data": {
            "text/plain": [
              "['user',\n",
              " 'love',\n",
              " 'day',\n",
              " 'u',\n",
              " 'happy',\n",
              " 'amp',\n",
              " 'just',\n",
              " 'will',\n",
              " 'time',\n",
              " 'life',\n",
              " 'im',\n",
              " 'today',\n",
              " 'like',\n",
              " 'new',\n",
              " 'get']"
            ]
          },
          "metadata": {},
          "execution_count": 21
        }
      ]
    },
    {
      "cell_type": "code",
      "source": [
        "vocabulary = {v: k for k, v in dict(enumerate(tokens_filtered_top, 1)).items()}\n",
        "vocabulary"
      ],
      "metadata": {
        "colab": {
          "base_uri": "https://localhost:8080/"
        },
        "id": "Q4jrpo4KGP1v",
        "outputId": "39afa6f2-4b01-43fb-9f3a-6dc54cf8ef06"
      },
      "execution_count": 22,
      "outputs": [
        {
          "output_type": "execute_result",
          "data": {
            "text/plain": [
              "{'user': 1,\n",
              " 'love': 2,\n",
              " 'day': 3,\n",
              " 'u': 4,\n",
              " 'happy': 5,\n",
              " 'amp': 6,\n",
              " 'just': 7,\n",
              " 'will': 8,\n",
              " 'time': 9,\n",
              " 'life': 10,\n",
              " 'im': 11,\n",
              " 'today': 12,\n",
              " 'like': 13,\n",
              " 'new': 14,\n",
              " 'get': 15,\n",
              " 'positive': 16,\n",
              " 'now': 17,\n",
              " 'thankful': 18,\n",
              " 'father': 19,\n",
              " 'good': 20,\n",
              " 'make': 21,\n",
              " 'people': 22,\n",
              " 'bihday': 23,\n",
              " 'one': 24,\n",
              " 'cant': 25,\n",
              " 'smile': 26,\n",
              " 'see': 27,\n",
              " 'go': 28,\n",
              " 'can': 29,\n",
              " 'dont': 30,\n",
              " 'take': 31,\n",
              " 'want': 32,\n",
              " 'friend': 33,\n",
              " 'work': 34,\n",
              " 'weekend': 35,\n",
              " 'healthy': 36,\n",
              " 'girl': 37,\n",
              " 'got': 38,\n",
              " 'need': 39,\n",
              " 'week': 40,\n",
              " 'fun': 41,\n",
              " 'summer': 42,\n",
              " 'family': 43,\n",
              " 'way': 44,\n",
              " 'friday': 45,\n",
              " 'great': 46,\n",
              " 'best': 47,\n",
              " '2': 48,\n",
              " 'beautiful': 49,\n",
              " 'bull': 50,\n",
              " 'going': 51,\n",
              " 'know': 52,\n",
              " 'year': 53,\n",
              " 'wait': 54,\n",
              " 'first': 55,\n",
              " 'really': 56,\n",
              " 'thing': 57,\n",
              " 'back': 58,\n",
              " 'world': 59,\n",
              " 'music': 60,\n",
              " 'morning': 61,\n",
              " 'affirmation': 62,\n",
              " 'home': 63,\n",
              " 'come': 64,\n",
              " 'look': 65,\n",
              " 'dad': 66,\n",
              " 'think': 67,\n",
              " 'tomorrow': 68,\n",
              " 'feel': 69,\n",
              " 'cute': 70,\n",
              " 'orlando': 71,\n",
              " 'never': 72,\n",
              " 'fathersday': 73,\n",
              " 'sad': 74,\n",
              " 'trump': 75,\n",
              " 'happiness': 76,\n",
              " 'night': 77,\n",
              " 'model': 78,\n",
              " 'right': 79,\n",
              " 'much': 80,\n",
              " 'well': 81,\n",
              " 'sunday': 82,\n",
              " 'blog': 83,\n",
              " 'always': 84,\n",
              " 'last': 85,\n",
              " 'say': 86,\n",
              " 'live': 87,\n",
              " 'next': 88,\n",
              " 'even': 89,\n",
              " 'youre': 90,\n",
              " 'amazing': 91,\n",
              " 'show': 92,\n",
              " 'finally': 93,\n",
              " 'tonight': 94,\n",
              " 'feeling': 95,\n",
              " 'still': 96,\n",
              " 'guy': 97,\n",
              " 'find': 98,\n",
              " 'iam': 99,\n",
              " 'gold': 100,\n",
              " 'woman': 101,\n",
              " 'ready': 102,\n",
              " 'silver': 103,\n",
              " 'thanks': 104,\n",
              " 'let': 105,\n",
              " 'game': 106,\n",
              " 'thank': 107,\n",
              " 'selfie': 108,\n",
              " 'follow': 109,\n",
              " 'little': 110,\n",
              " 'altwaystoheal': 111,\n",
              " 'quote': 112,\n",
              " 'na': 113,\n",
              " 'pay': 114,\n",
              " 'everyone': 115,\n",
              " 'looking': 116,\n",
              " '4': 117,\n",
              " 'man': 118,\n",
              " 'free': 119,\n",
              " 'dog': 120,\n",
              " 'food': 121,\n",
              " 'watch': 122,\n",
              " 'forex': 123,\n",
              " 'hope': 124,\n",
              " 'via': 125,\n",
              " 'baby': 126,\n",
              " 'ever': 127,\n",
              " 'place': 128,\n",
              " 'many': 129,\n",
              " 'bear': 130,\n",
              " 'black': 131,\n",
              " 'getting': 132,\n",
              " '1': 133,\n",
              " 'old': 134,\n",
              " 'video': 135,\n",
              " 'hate': 136,\n",
              " 'another': 137,\n",
              " 'climb': 138,\n",
              " 'peace': 139,\n",
              " 'kid': 140,\n",
              " 'god': 141,\n",
              " 'stop': 142,\n",
              " 'keep': 143,\n",
              " 'white': 144,\n",
              " 'city': 145,\n",
              " '2016': 146,\n",
              " 'blessed': 147,\n",
              " 'sun': 148,\n",
              " 'help': 149,\n",
              " 'hour': 150,\n",
              " 'enjoy': 151,\n",
              " 'news': 152,\n",
              " 'polar': 153,\n",
              " 'made': 154,\n",
              " 'saturday': 155,\n",
              " 'ive': 156,\n",
              " 'every': 157,\n",
              " 'sta': 158,\n",
              " 'thought': 159,\n",
              " 'whatever': 160,\n",
              " 'boy': 161,\n",
              " 'tweet': 162,\n",
              " 'someone': 163,\n",
              " '3': 164,\n",
              " 'wedding': 165,\n",
              " 'funny': 166,\n",
              " 'thats': 167,\n",
              " 'might': 168,\n",
              " 'wish': 169,\n",
              " 'coming': 170,\n",
              " 'school': 171,\n",
              " 'excited': 172,\n",
              " 'angry': 173,\n",
              " 'may': 174,\n",
              " 'better': 175,\n",
              " 'lol': 176,\n",
              " 'holiday': 177,\n",
              " 'believe': 178,\n",
              " 'didnt': 179,\n",
              " 'photo': 180,\n",
              " 'hea': 181,\n",
              " 'nothing': 182,\n",
              " 'change': 183,\n",
              " 'done': 184,\n",
              " 'instagood': 185,\n",
              " 'word': 186,\n",
              " 'attack': 187,\n",
              " 'healing': 188,\n",
              " 'child': 189,\n",
              " 'soon': 190,\n",
              " 'month': 191,\n",
              " 'team': 192,\n",
              " 'lot': 193,\n",
              " 'long': 194,\n",
              " 'nice': 195,\n",
              " 'awesome': 196,\n",
              " 'true': 197,\n",
              " 'give': 198,\n",
              " 'face': 199,\n",
              " 'beach': 200,\n",
              " 'motivation': 201,\n",
              " 'big': 202,\n",
              " 'job': 203,\n",
              " 'around': 204,\n",
              " 'found': 205,\n",
              " 'moment': 206,\n",
              " 'bad': 207,\n",
              " 'something': 208,\n",
              " 'please': 209,\n",
              " 'end': 210,\n",
              " 'proud': 211,\n",
              " 'play': 212,\n",
              " 'monday': 213,\n",
              " 'america': 214,\n",
              " 'waiting': 215,\n",
              " 'grateful': 216,\n",
              " 'direct': 217,\n",
              " 'yes': 218,\n",
              " 'n': 219,\n",
              " 'forward': 220,\n",
              " 'two': 221,\n",
              " 'without': 222,\n",
              " 'dominate': 223,\n",
              " 'rip': 224,\n",
              " 'dream': 225,\n",
              " 'real': 226,\n",
              " 'd': 227,\n",
              " 'miss': 228,\n",
              " 'racing': 229,\n",
              " 'book': 230,\n",
              " 'watching': 231,\n",
              " 'left': 232,\n",
              " 'person': 233,\n",
              " 'travel': 234,\n",
              " 'tear': 235,\n",
              " 'cool': 236,\n",
              " 'lost': 237,\n",
              " 'check': 238,\n",
              " 'away': 239,\n",
              " 'yeah': 240,\n",
              " 'hot': 241,\n",
              " 'strong': 242,\n",
              " 'fan': 243,\n",
              " 'lovely': 244,\n",
              " 'libtard': 245,\n",
              " 'gun': 246,\n",
              " 'cat': 247,\n",
              " 'playing': 248,\n",
              " 'oh': 249,\n",
              " 'shooting': 250,\n",
              " '5': 251,\n",
              " 'hard': 252,\n",
              " 'win': 253,\n",
              " 'sex': 254,\n",
              " 'r': 255,\n",
              " 'mindset': 256,\n",
              " 'fashion': 257,\n",
              " 'buffalo': 258,\n",
              " 'living': 259,\n",
              " 'photooftheday': 260,\n",
              " 'twitter': 261,\n",
              " 'sleep': 262,\n",
              " 'bing': 263,\n",
              " 'hair': 264,\n",
              " 'gay': 265,\n",
              " 'pa': 266,\n",
              " 'wow': 267,\n",
              " 'followme': 268,\n",
              " 'song': 269,\n",
              " 'bong': 270,\n",
              " 'gon': 271,\n",
              " 'cry': 272,\n",
              " 'leave': 273,\n",
              " 'yet': 274,\n",
              " 'ur': 275,\n",
              " 'health': 276,\n",
              " 'money': 277,\n",
              " 'success': 278,\n",
              " 'doesnt': 279,\n",
              " 'joy': 280,\n",
              " 'ill': 281,\n",
              " 'everything': 282,\n",
              " 'try': 283,\n",
              " 'euro2016': 284,\n",
              " 'lt3': 285,\n",
              " 'young': 286,\n",
              " 'omg': 287,\n",
              " 'mom': 288,\n",
              " 'flower': 289,\n",
              " 'london': 290,\n",
              " 'thursday': 291,\n",
              " 'country': 292,\n",
              " 'sexy': 293,\n",
              " 'run': 294,\n",
              " 'movie': 295,\n",
              " 'full': 296,\n",
              " 'racist': 297,\n",
              " 'conference': 298,\n",
              " '10': 299,\n",
              " 'mean': 300,\n",
              " 'stay': 301,\n",
              " 'wont': 302,\n",
              " 'fuck': 303,\n",
              " 'poetry': 304,\n",
              " 'couple': 305,\n",
              " 'mind': 306,\n",
              " 'politics': 307,\n",
              " 'ticket': 308,\n",
              " 'making': 309,\n",
              " 'story': 310,\n",
              " 'pretty': 311,\n",
              " 'house': 312,\n",
              " 'june': 313,\n",
              " 'loved': 314,\n",
              " 'listen': 315,\n",
              " 'said': 316,\n",
              " 'call': 317,\n",
              " 'post': 318,\n",
              " 'tbt': 319,\n",
              " 'already': 320,\n",
              " 'meet': 321,\n",
              " 'body': 322,\n",
              " 'inspiration': 323,\n",
              " 'nude': 324,\n",
              " 'gift': 325,\n",
              " 'porn': 326,\n",
              " 'gorilla': 327,\n",
              " 'working': 328,\n",
              " 'beauty': 329,\n",
              " 'dance': 330,\n",
              " 'also': 331,\n",
              " 'since': 332,\n",
              " 'head': 333,\n",
              " 'depression': 334,\n",
              " 'cold': 335,\n",
              " 'son': 336,\n",
              " 'season': 337,\n",
              " 'fact': 338,\n",
              " 'truth': 339,\n",
              " 'obama': 340,\n",
              " 'perfect': 341,\n",
              " 'whats': 342,\n",
              " 'open': 343,\n",
              " 'liberal': 344,\n",
              " 'buy': 345,\n",
              " 'shit': 346,\n",
              " 'wonderful': 347,\n",
              " 'enough': 348,\n",
              " 'fitness': 349,\n",
              " 'read': 350,\n",
              " 'must': 351,\n",
              " 'crazy': 352,\n",
              " 's': 353,\n",
              " 'v': 354,\n",
              " 'simulation': 355,\n",
              " 'use': 356,\n",
              " 'tell': 357,\n",
              " 'gone': 358,\n",
              " 'put': 359,\n",
              " 'men': 360,\n",
              " 'isnt': 361,\n",
              " 'till': 362,\n",
              " 'x': 363,\n",
              " 'bird': 364,\n",
              " 'medium': 365,\n",
              " 'car': 366,\n",
              " 'w': 367,\n",
              " 'environment': 368,\n",
              " 'pic': 369,\n",
              " 'he': 370,\n",
              " 'reason': 371,\n",
              " 'picture': 372,\n",
              " 'rest': 373,\n",
              " 'hey': 374,\n",
              " 'super': 375,\n",
              " 'yay': 376,\n",
              " 'matter': 377,\n",
              " 'shop': 378,\n",
              " 'mood': 379,\n",
              " 'celebrate': 380,\n",
              " 'share': 381,\n",
              " 'relax': 382,\n",
              " 'dead': 383,\n",
              " 'loving': 384,\n",
              " 'care': 385,\n",
              " 'le': 386,\n",
              " 'trip': 387,\n",
              " 'race': 388,\n",
              " 'simulator': 389,\n",
              " 'adapt': 390,\n",
              " 'talk': 391,\n",
              " 'business': 392,\n",
              " 'bed': 393,\n",
              " 'wednesday': 394,\n",
              " 'american': 395,\n",
              " 'together': 396,\n",
              " 'side': 397,\n",
              " 'retweet': 398,\n",
              " 'state': 399,\n",
              " 'coffee': 400,\n",
              " 'anything': 401,\n",
              " 'blue': 402,\n",
              " 'sweet': 403,\n",
              " 'others': 404,\n",
              " 'hear': 405,\n",
              " 'allahsoil': 406,\n",
              " 'usa': 407,\n",
              " 'remember': 408,\n",
              " 'animal': 409,\n",
              " 'trying': 410,\n",
              " 'far': 411,\n",
              " 'sick': 412,\n",
              " 'wrong': 413,\n",
              " 'ppl': 414,\n",
              " 'lead': 415,\n",
              " 'point': 416,\n",
              " 'empty': 417,\n",
              " 'follower': 418,\n",
              " 'else': 419,\n",
              " 'almost': 420,\n",
              " 'seeing': 421,\n",
              " 'actually': 422,\n",
              " 'event': 423,\n",
              " 'anymore': 424,\n",
              " 'daddy': 425,\n",
              " 'sorry': 426,\n",
              " 'power': 427,\n",
              " 'drink': 428,\n",
              " 'gym': 429,\n",
              " 'vacation': 430,\n",
              " 'special': 431,\n",
              " 'evening': 432,\n",
              " 'came': 433,\n",
              " 'sure': 434,\n",
              " 'photography': 435,\n",
              " 'goodmorning': 436,\n",
              " 'latest': 437,\n",
              " 'eye': 438,\n",
              " 'tgif': 439,\n",
              " 'toptags': 440,\n",
              " 'single': 441,\n",
              " 'kind': 442,\n",
              " 'tired': 443,\n",
              " 'b': 444,\n",
              " 'laugh': 445,\n",
              " 'alone': 446,\n",
              " 'comment': 447,\n",
              " 'anyone': 448,\n",
              " 'prayfororlando': 449,\n",
              " 'sunshine': 450,\n",
              " '7': 451,\n",
              " 'act': 452,\n",
              " 'victim': 453,\n",
              " 'daily': 454,\n",
              " 'delete': 455,\n",
              " 'football': 456,\n",
              " 'reading': 457,\n",
              " 'nature': 458,\n",
              " 'join': 459,\n",
              " 'sister': 460,\n",
              " 'update': 461,\n",
              " 'forever': 462,\n",
              " 'running': 463,\n",
              " '1st': 464,\n",
              " 'minute': 465,\n",
              " 'prayer': 466,\n",
              " 'daughter': 467,\n",
              " 'customer': 468,\n",
              " 'death': 469,\n",
              " 'order': 470,\n",
              " '6': 471,\n",
              " 'uk': 472,\n",
              " 'visit': 473,\n",
              " 'social': 474,\n",
              " 'saw': 475,\n",
              " 'aww': 476,\n",
              " 'hardcore': 477,\n",
              " 'lifestyle': 478,\n",
              " 'racism': 479,\n",
              " 'view': 480,\n",
              " 'yesterday': 481,\n",
              " 'nervous': 482,\n",
              " 'impoant': 483,\n",
              " 'final': 484,\n",
              " 'favorite': 485,\n",
              " 'lgbt': 486,\n",
              " 'set': 487,\n",
              " 'tuesday': 488,\n",
              " 'goal': 489,\n",
              " 'useful': 490,\n",
              " 'high': 491,\n",
              " 'green': 492,\n",
              " 'ok': 493,\n",
              " 'yall': 494,\n",
              " 'human': 495,\n",
              " 'student': 496,\n",
              " 'hello': 497,\n",
              " 'hand': 498,\n",
              " 'ago': 499,\n",
              " 'memory': 500,\n",
              " 'break': 501,\n",
              " 'went': 502,\n",
              " 'instagram': 503,\n",
              " 'episode': 504,\n",
              " 'group': 505,\n",
              " 'suppo': 506,\n",
              " 'cause': 507,\n",
              " 'hit': 508,\n",
              " 'finished': 509,\n",
              " 'sunny': 510,\n",
              " 'brother': 511,\n",
              " 'boyfriend': 512,\n",
              " 'booked': 513,\n",
              " 'date': 514,\n",
              " 'late': 515,\n",
              " 'style': 516,\n",
              " 'organization': 517,\n",
              " 'complete': 518,\n",
              " 'walk': 519,\n",
              " 'future': 520,\n",
              " 'stas': 521,\n",
              " 'whole': 522,\n",
              " 'early': 523,\n",
              " 'sometimes': 524,\n",
              " 'app': 525,\n",
              " 'arrived': 526,\n",
              " 'deletetweets': 527,\n",
              " 'muslim': 528,\n",
              " 'lunch': 529,\n",
              " 'disney': 530,\n",
              " 'sjw': 531,\n",
              " 'there': 532,\n",
              " 'smiling': 533,\n",
              " '20': 534,\n",
              " 'kill': 535,\n",
              " 'parent': 536,\n",
              " 'bit': 537,\n",
              " 'despite': 538,\n",
              " 'afternoon': 539,\n",
              " 'star': 540,\n",
              " 'picoftheday': 541,\n",
              " 'happened': 542,\n",
              " 'cantwait': 543,\n",
              " 'everyday': 544,\n",
              " 'fucking': 545,\n",
              " 'depressed': 546,\n",
              " 'name': 547,\n",
              " 'vote': 548,\n",
              " 'tv': 549,\n",
              " 'hu': 550,\n",
              " 'color': 551,\n",
              " 'film': 552,\n",
              " 'garden': 553,\n",
              " 'florida': 554,\n",
              " 'seems': 555,\n",
              " 'seen': 556,\n",
              " 'conce': 557,\n",
              " 'source': 558,\n",
              " '50': 559,\n",
              " 'sale': 560,\n",
              " 'nyc': 561,\n",
              " 'lucky': 562,\n",
              " 'taking': 563,\n",
              " 'park': 564,\n",
              " 'lady': 565,\n",
              " 'meeting': 566,\n",
              " 'design': 567,\n",
              " 'anxiety': 568,\n",
              " 'wishing': 569,\n",
              " 'choose': 570,\n",
              " 'smh': 571,\n",
              " 'lover': 572,\n",
              " 'vine': 573,\n",
              " 'youtube': 574,\n",
              " 'bitch': 575,\n",
              " 'joke': 576,\n",
              " 'soul': 577,\n",
              " 'later': 578,\n",
              " 'mountain': 579,\n",
              " 'bring': 580,\n",
              " 'welcome': 581,\n",
              " 'become': 582,\n",
              " 'snapchat': 583,\n",
              " 'understand': 584,\n",
              " 'education': 585,\n",
              " 'damn': 586,\n",
              " 'card': 587,\n",
              " 'saying': 588,\n",
              " 'flag': 589,\n",
              " 'xxx': 590,\n",
              " 'shot': 591,\n",
              " 'as': 592,\n",
              " 'mad': 593,\n",
              " 'though': 594,\n",
              " 'mother': 595,\n",
              " 'reached': 596,\n",
              " 'guess': 597,\n",
              " 'cultureofdevelopment': 598,\n",
              " 'voice': 599,\n",
              " 'light': 600,\n",
              " 'actor': 601,\n",
              " 'killed': 602,\n",
              " 'sky': 603,\n",
              " '30': 604,\n",
              " 'dinner': 605,\n",
              " 'sea': 606,\n",
              " 'rain': 607,\n",
              " 'red': 608,\n",
              " 'close': 609,\n",
              " 'shopping': 610,\n",
              " 'able': 611,\n",
              " 'easy': 612,\n",
              " 'staing': 613,\n",
              " 'gt': 614,\n",
              " 'y': 615,\n",
              " 'shes': 616,\n",
              " 'pray': 617,\n",
              " 'target': 618,\n",
              " 'begin': 619,\n",
              " 'freedom': 620,\n",
              " 'top': 621,\n",
              " 'choice': 622,\n",
              " 'havent': 623,\n",
              " 'wan': 624,\n",
              " 'sign': 625,\n",
              " 'present': 626,\n",
              " 'safe': 627,\n",
              " 'learn': 628,\n",
              " 'happening': 629,\n",
              " 'experience': 630,\n",
              " 'stuff': 631,\n",
              " 'la': 632,\n",
              " 'history': 633,\n",
              " 'line': 634,\n",
              " 'brexit': 635,\n",
              " 'hell': 636,\n",
              " 'national': 637,\n",
              " '12': 638,\n",
              " 'maybe': 639,\n",
              " 'fresh': 640,\n",
              " '2nd': 641,\n",
              " 'happen': 642,\n",
              " 'relationship': 643,\n",
              " 'truly': 644,\n",
              " 'teen': 645,\n",
              " 'called': 646,\n",
              " 'save': 647,\n",
              " 'nasty': 648,\n",
              " 'class': 649,\n",
              " 'training': 650,\n",
              " 'service': 651,\n",
              " 'orlandoshooting': 652,\n",
              " 'yo': 653,\n",
              " '8': 654,\n",
              " 'mass': 655,\n",
              " 'vicinity': 656,\n",
              " 'couldnt': 657,\n",
              " 'anniversary': 658,\n",
              " 'slut': 659,\n",
              " 'problem': 660,\n",
              " 'breakfast': 661,\n",
              " 'president': 662,\n",
              " 'turn': 663,\n",
              " 'wake': 664,\n",
              " 'forget': 665,\n",
              " 'cake': 666,\n",
              " 'issue': 667,\n",
              " 'lie': 668,\n",
              " 'water': 669,\n",
              " 'hillary': 670,\n",
              " 'missing': 671,\n",
              " 'lighttherapy': 672,\n",
              " 'club': 673,\n",
              " 'talking': 674,\n",
              " 'police': 675,\n",
              " 'england': 676,\n",
              " 'thankyou': 677,\n",
              " '100': 678,\n",
              " 'phone': 679,\n",
              " 'wife': 680,\n",
              " 'chase': 681,\n",
              " 'theyre': 682,\n",
              " 'community': 683,\n",
              " 'tragedy': 684,\n",
              " 'july': 685,\n",
              " 'lawofattraction': 686,\n",
              " 'tragic': 687,\n",
              " 'hill': 688,\n",
              " 'officially': 689,\n",
              " 'list': 690,\n",
              " 'husband': 691,\n",
              " 'pain': 692,\n",
              " 'award': 693,\n",
              " 'pathetic': 694,\n",
              " 'plan': 695,\n",
              " 'test': 696,\n",
              " 'broken': 697,\n",
              " 'heard': 698,\n",
              " 'friendship': 699,\n",
              " 'ramadan': 700,\n",
              " 'bought': 701,\n",
              " 'dj': 702,\n",
              " 'half': 703,\n",
              " 'chill': 704,\n",
              " 'suppoers': 705,\n",
              " 'moving': 706,\n",
              " 'dark': 707,\n",
              " 'nigga': 708,\n",
              " 'account': 709,\n",
              " 'heal': 710,\n",
              " 'thinking': 711,\n",
              " 'course': 712,\n",
              " 'adventure': 713,\n",
              " 'fall': 714,\n",
              " 'rock': 715,\n",
              " 'ahead': 716,\n",
              " '3d': 717,\n",
              " 'stand': 718,\n",
              " 'workout': 719,\n",
              " 'move': 720,\n",
              " 'bless': 721,\n",
              " 'street': 722,\n",
              " 'reality': 723,\n",
              " 'action': 724,\n",
              " 'wanted': 725,\n",
              " 'survive': 726,\n",
              " 'shy': 727,\n",
              " 'wet': 728,\n",
              " 'client': 729,\n",
              " 'dear': 730,\n",
              " 'treat': 731,\n",
              " 'lose': 732,\n",
              " 'yr': 733,\n",
              " 'festival': 734,\n",
              " 'product': 735,\n",
              " 'celebration': 736,\n",
              " 'giving': 737,\n",
              " 'used': 738,\n",
              " 'ask': 739,\n",
              " 'yoga': 740,\n",
              " 'exciting': 741,\n",
              " 'loss': 742,\n",
              " 'euro': 743,\n",
              " 'disappointed': 744,\n",
              " 'reach': 745,\n",
              " 'ta': 746,\n",
              " 'huge': 747,\n",
              " 'simple': 748,\n",
              " 'happier': 749,\n",
              " 'control': 750,\n",
              " 'worst': 751,\n",
              " 'gbp': 752,\n",
              " 'second': 753,\n",
              " 'step': 754,\n",
              " 'instead': 755,\n",
              " 'surprise': 756,\n",
              " 'bc': 757,\n",
              " 'beer': 758,\n",
              " 'bday': 759,\n",
              " 'room': 760,\n",
              " 'small': 761,\n",
              " 'lonely': 762,\n",
              " 'mine': 763,\n",
              " 'fear': 764,\n",
              " 'violence': 765,\n",
              " 'send': 766,\n",
              " 'online': 767,\n",
              " 'naughty': 768,\n",
              " 'horny': 769,\n",
              " 'gop': 770,\n",
              " 'wine': 771,\n",
              " 'hero': 772,\n",
              " '9': 773,\n",
              " 'france': 774,\n",
              " 'age': 775,\n",
              " 'question': 776,\n",
              " 'id': 777,\n",
              " 'least': 778,\n",
              " 'official': 779,\n",
              " 'luck': 780,\n",
              " 'won': 781,\n",
              " 'who': 782,\n",
              " 'past': 783,\n",
              " 'cheer': 784,\n",
              " 'flight': 785,\n",
              " 'idea': 786,\n",
              " 'sunset': 787,\n",
              " '2017': 788,\n",
              " 'launch': 789,\n",
              " 'finding': 790,\n",
              " 'behind': 791,\n",
              " 'mr': 792,\n",
              " 'seriously': 793,\n",
              " 'kinky': 794,\n",
              " 'makeup': 795,\n",
              " 'busy': 796,\n",
              " 'india': 797,\n",
              " 'fantastic': 798,\n",
              " 'message': 799,\n",
              " 'instamood': 800,\n",
              " 'blogger': 801,\n",
              " 'ripchristina': 802,\n",
              " 'rooster': 803,\n",
              " 'vast': 804,\n",
              " 'gorgeous': 805,\n",
              " 'puppy': 806,\n",
              " 'asian': 807,\n",
              " 'here': 808,\n",
              " 'war': 809,\n",
              " 'youve': 810,\n",
              " 'wasnt': 811,\n",
              " 'emotion': 812,\n",
              " 'finger': 813,\n",
              " 'facebook': 814,\n",
              " 'leadership': 815,\n",
              " 'staed': 816,\n",
              " 'nbafinals': 817,\n",
              " 'gave': 818,\n",
              " 'expanse': 819,\n",
              " 'law': 820,\n",
              " 'female': 821,\n",
              " 'leader': 822,\n",
              " 'aint': 823,\n",
              " 'along': 824,\n",
              " 'pussy': 825,\n",
              " 'stage': 826,\n",
              " 'result': 827,\n",
              " 'queen': 828,\n",
              " 'glad': 829,\n",
              " 'energy': 830,\n",
              " 'vegan': 831,\n",
              " 'leaving': 832,\n",
              " 'oil': 833,\n",
              " 'pizza': 834,\n",
              " 'agree': 835,\n",
              " 'respect': 836,\n",
              " 'm': 837,\n",
              " 'session': 838,\n",
              " 'met': 839,\n",
              " 'different': 840,\n",
              " 'congrats': 841,\n",
              " 'sound': 842,\n",
              " 'haha': 843,\n",
              " 'ride': 844,\n",
              " 'blur': 845,\n",
              " 'member': 846,\n",
              " 'three': 847,\n",
              " 'died': 848,\n",
              " 'content': 849,\n",
              " 'shame': 850,\n",
              " 'vibe': 851,\n",
              " 'spend': 852,\n",
              " 'political': 853,\n",
              " 'p': 854,\n",
              " 'needed': 855,\n",
              " 'udtapunjab': 856,\n",
              " 'fridayfeeling': 857,\n",
              " 'die': 858,\n",
              " 'wonder': 859,\n",
              " 'blonde': 860,\n",
              " 'o': 861,\n",
              " 'missed': 862,\n",
              " 'using': 863,\n",
              " 'listening': 864,\n",
              " 'shoe': 865,\n",
              " 'walking': 866,\n",
              " 'terrorist': 867,\n",
              " 'folk': 868,\n",
              " 'pop': 869,\n",
              " 'trending': 870,\n",
              " 'weather': 871,\n",
              " 'instadaily': 872,\n",
              " 'nba': 873,\n",
              " 'review': 874,\n",
              " 'camp': 875,\n",
              " 'countdown': 876,\n",
              " 'self': 877,\n",
              " 'rather': 878,\n",
              " 'arent': 879,\n",
              " 'fit': 880,\n",
              " 'task': 881,\n",
              " 'page': 882,\n",
              " 'hi': 883,\n",
              " 'local': 884,\n",
              " 'project': 885,\n",
              " 'republican': 886,\n",
              " 'pool': 887,\n",
              " 'towards': 888,\n",
              " 'vega': 889,\n",
              " 'literally': 890,\n",
              " 'tech': 891,\n",
              " 'pet': 892,\n",
              " 'inspirational': 893,\n",
              " 'oitnb': 894,\n",
              " 'either': 895,\n",
              " 'fly': 896,\n",
              " 'university': 897,\n",
              " 'islam': 898,\n",
              " 'beat': 899,\n",
              " 'hatred': 900,\n",
              " 'weve': 901,\n",
              " 'king': 902,\n",
              " 'broke': 903,\n",
              " 'punjab': 904,\n",
              " 'secret': 905,\n",
              " 'naked': 906,\n",
              " 'alive': 907,\n",
              " 'internet': 908,\n",
              " 'apple': 909,\n",
              " 'calling': 910,\n",
              " 'space': 911,\n",
              " 'probably': 912,\n",
              " 'poor': 913,\n",
              " 'lovelife': 914,\n",
              " 'series': 915,\n",
              " 'idiot': 916,\n",
              " 'united': 917,\n",
              " '15': 918,\n",
              " 'bride': 919,\n",
              " 'company': 920,\n",
              " 'low': 921,\n",
              " 'decided': 922,\n",
              " 'dress': 923,\n",
              " 'road': 924,\n",
              " 'stupid': 925,\n",
              " 'e32016': 926,\n",
              " 'cover': 927,\n",
              " 'given': 928,\n",
              " 'staff': 929,\n",
              " 'dancing': 930,\n",
              " 'germany': 931,\n",
              " 'pride': 932,\n",
              " 'return': 933,\n",
              " 'wtf': 934,\n",
              " 'grow': 935,\n",
              " 'release': 936,\n",
              " 'woh': 937,\n",
              " 'successful': 938,\n",
              " 'fire': 939,\n",
              " 'bag': 940,\n",
              " 'fight': 941,\n",
              " 'tried': 942,\n",
              " 'campaign': 943,\n",
              " 'million': 944,\n",
              " 'snapshot': 945,\n",
              " 'pink': 946,\n",
              " 'available': 947,\n",
              " 'bike': 948,\n",
              " 'email': 949,\n",
              " 'college': 950,\n",
              " 'kiss': 951,\n",
              " 'key': 952,\n",
              " 'chance': 953,\n",
              " 'york': 954,\n",
              " 'eat': 955,\n",
              " 'previous': 956,\n",
              " 'number': 957,\n",
              " 'scared': 958,\n",
              " 'glass': 959,\n",
              " 'rainbow': 960,\n",
              " 'meme': 961,\n",
              " 'everybody': 962,\n",
              " 'stomping': 963,\n",
              " 'train': 964,\n",
              " 'album': 965,\n",
              " 'stuck': 966,\n",
              " 'foot': 967,\n",
              " 'took': 968,\n",
              " 'nation': 969,\n",
              " 'instalike': 970,\n",
              " 'pig': 971,\n",
              " 'lyric': 972,\n",
              " 'writing': 973,\n",
              " 'speak': 974,\n",
              " 'faith': 975,\n",
              " 'confused': 976,\n",
              " 'enjoying': 977,\n",
              " 'gif': 978,\n",
              " 'inshot': 979,\n",
              " 'journey': 980,\n",
              " 'sho': 981,\n",
              " 'role': 982,\n",
              " 'tip': 983,\n",
              " 'youll': 984,\n",
              " 'newyork': 985,\n",
              " 'hold': 986,\n",
              " 'paris': 987,\n",
              " 'opening': 988,\n",
              " 'girlfriend': 989,\n",
              " 'marriage': 990,\n",
              " 'donald': 991,\n",
              " 'heading': 992,\n",
              " 'christmas': 993,\n",
              " 'received': 994,\n",
              " 'married': 995,\n",
              " 'cavs': 996,\n",
              " 'congratulation': 997,\n",
              " 'inside': 998,\n",
              " 'longer': 999,\n",
              " 'entire': 1000,\n",
              " ...}"
            ]
          },
          "metadata": {},
          "execution_count": 22
        }
      ]
    },
    {
      "cell_type": "code",
      "source": [
        "def text_to_sequence(text, maxlen):\n",
        "    \n",
        "    result = []\n",
        "    tokens = word_tokenize(text.lower())\n",
        "    tokens_filtered = [word for word in tokens if word.isalnum()]\n",
        "    for word in tokens_filtered:\n",
        "        if word in vocabulary:\n",
        "            result.append(vocabulary[word])\n",
        "\n",
        "    padding = [0] * (maxlen-len(result))\n",
        "    \n",
        "    return result[-maxlen:] + padding"
      ],
      "metadata": {
        "id": "rTS4HQf8GP3l"
      },
      "execution_count": 23,
      "outputs": []
    },
    {
      "cell_type": "code",
      "source": [
        "%%time\n",
        "\n",
        "x_train = np.asarray([text_to_sequence(text, max_len) for text in X_train.tweet])\n",
        "x_val = np.asarray([text_to_sequence(text, max_len) for text in X_valid.tweet])\n",
        "\n",
        "x_train.shape, x_val.shape"
      ],
      "metadata": {
        "colab": {
          "base_uri": "https://localhost:8080/"
        },
        "id": "2DUPHFZTK0YU",
        "outputId": "cdd17a2c-cd10-4cb2-cfe0-942af520d1c6"
      },
      "execution_count": 24,
      "outputs": [
        {
          "output_type": "stream",
          "name": "stdout",
          "text": [
            "CPU times: user 3.95 s, sys: 29.2 ms, total: 3.97 s\n",
            "Wall time: 4.05 s\n"
          ]
        },
        {
          "output_type": "execute_result",
          "data": {
            "text/plain": [
              "((23971, 30), (7991, 30))"
            ]
          },
          "metadata": {},
          "execution_count": 24
        }
      ]
    },
    {
      "cell_type": "code",
      "source": [
        "train_df.tweet.iloc[0]"
      ],
      "metadata": {
        "colab": {
          "base_uri": "https://localhost:8080/",
          "height": 36
        },
        "id": "Z1vzAfZeK0bE",
        "outputId": "82f1447d-8132-4c4c-8352-697b818ead37"
      },
      "execution_count": 25,
      "outputs": [
        {
          "output_type": "execute_result",
          "data": {
            "text/plain": [
              "' @user when a father is dysfunctional and is so selfish he drags his kids into his dysfunction.   #run'"
            ],
            "application/vnd.google.colaboratory.intrinsic+json": {
              "type": "string"
            }
          },
          "metadata": {},
          "execution_count": 25
        }
      ]
    },
    {
      "cell_type": "code",
      "source": [
        "x_train[0]"
      ],
      "metadata": {
        "colab": {
          "base_uri": "https://localhost:8080/"
        },
        "id": "R5PNP3rjK0dZ",
        "outputId": "a71e4d72-e7a7-482a-ab47-eef878b0e433"
      },
      "execution_count": 26,
      "outputs": [
        {
          "output_type": "execute_result",
          "data": {
            "text/plain": [
              "array([35,  0,  0,  0,  0,  0,  0,  0,  0,  0,  0,  0,  0,  0,  0,  0,  0,\n",
              "        0,  0,  0,  0,  0,  0,  0,  0,  0,  0,  0,  0,  0])"
            ]
          },
          "metadata": {},
          "execution_count": 26
        }
      ]
    },
    {
      "cell_type": "markdown",
      "source": [
        "Создадим архитектуру сети"
      ],
      "metadata": {
        "id": "JslvEQLxLGwQ"
      }
    },
    {
      "cell_type": "code",
      "source": [
        "class GRU_Twitter(nn.Module) :\n",
        "    def __init__(self, vocab_size, embedding_dim=128, hidden_dim=128, use_last=True):\n",
        "        super().__init__()\n",
        "        self.use_last = use_last\n",
        "        self.embeddings = nn.Embedding(vocab_size, embedding_dim, padding_idx=0)\n",
        "        self.gru = nn.GRU(embedding_dim, hidden_dim, num_layers=2, batch_first=True)\n",
        "        self.linear = nn.Linear(hidden_dim, 1)\n",
        "        self.dropout = nn.Dropout(0.2)\n",
        "        \n",
        "    def forward(self, x):\n",
        "        x = self.embeddings(x)\n",
        "        x = self.dropout(x)\n",
        "        gru_out, ht = self.gru(x)\n",
        "       \n",
        "        if self.use_last:\n",
        "            last_tensor = gru_out[:,-1,:]\n",
        "        else:\n",
        "            # use mean\n",
        "            last_tensor = torch.mean(gru_out[:,:], dim=1)\n",
        "    \n",
        "        out = self.linear(last_tensor)\n",
        "        return torch.sigmoid(out)"
      ],
      "metadata": {
        "id": "MQoFDsS2K0fo"
      },
      "execution_count": 27,
      "outputs": []
    },
    {
      "cell_type": "markdown",
      "source": [
        "Создадим датасет и обернем его даталоадером"
      ],
      "metadata": {
        "id": "JoBExy0SLt53"
      }
    },
    {
      "cell_type": "code",
      "source": [
        "class Data_Twitter(Dataset):\n",
        "    def __init__(self, data, target, transform=None):\n",
        "        self.data = torch.from_numpy(data).long()\n",
        "        self.target = torch.from_numpy(target).long() \n",
        "        self.transform = transform\n",
        "        \n",
        "    def __getitem__(self, index):\n",
        "        x = self.data[index]\n",
        "        y = self.target[index]\n",
        "        \n",
        "        if self.transform:\n",
        "            x = self.transform(x)\n",
        "            \n",
        "        return x, y\n",
        "    \n",
        "    def __len__(self):\n",
        "        return len(self.data)"
      ],
      "metadata": {
        "id": "weNUAHPXK0hm"
      },
      "execution_count": 28,
      "outputs": []
    },
    {
      "cell_type": "code",
      "source": [
        "train_dataset = Data_Twitter(x_train, X_train.label.values)\n",
        "train_loader = DataLoader(train_dataset, batch_size=batch_size, shuffle=True)\n",
        "\n",
        "val_dataset = Data_Twitter(x_val, X_valid.label.values)\n",
        "val_loader = DataLoader(val_dataset, batch_size=8, shuffle=True)"
      ],
      "metadata": {
        "id": "JBY0VUDGK0jn"
      },
      "execution_count": 29,
      "outputs": []
    },
    {
      "cell_type": "markdown",
      "source": [
        "Проверим корректность созданного"
      ],
      "metadata": {
        "id": "aLo66KiOMHkd"
      }
    },
    {
      "cell_type": "code",
      "source": [
        "train_loader.sampler"
      ],
      "metadata": {
        "colab": {
          "base_uri": "https://localhost:8080/"
        },
        "id": "6nn7wZOpK0mK",
        "outputId": "3021513a-720e-4c4b-831e-5fd1bca7cf41"
      },
      "execution_count": 30,
      "outputs": [
        {
          "output_type": "execute_result",
          "data": {
            "text/plain": [
              "<torch.utils.data.sampler.RandomSampler at 0x7f4babc59370>"
            ]
          },
          "metadata": {},
          "execution_count": 30
        }
      ]
    },
    {
      "cell_type": "code",
      "source": [
        "for x, l in train_loader:\n",
        "    print(x.shape)\n",
        "    print(l.shape)\n",
        "    print(l[0])\n",
        "    break"
      ],
      "metadata": {
        "colab": {
          "base_uri": "https://localhost:8080/"
        },
        "id": "d3rs8KAzK0nq",
        "outputId": "0f2a2817-a104-4acf-f84f-eed915bc60eb"
      },
      "execution_count": 31,
      "outputs": [
        {
          "output_type": "stream",
          "name": "stdout",
          "text": [
            "torch.Size([512, 30])\n",
            "torch.Size([512])\n",
            "tensor(0)\n"
          ]
        }
      ]
    },
    {
      "cell_type": "code",
      "source": [
        "device = 'cuda' if torch.cuda.is_available() else 'cpu'\n",
        "device"
      ],
      "metadata": {
        "colab": {
          "base_uri": "https://localhost:8080/",
          "height": 36
        },
        "id": "MmxJQwkdXnWn",
        "outputId": "b6af8a0e-9e2f-410a-c9bc-c5b08623b539"
      },
      "execution_count": 32,
      "outputs": [
        {
          "output_type": "execute_result",
          "data": {
            "text/plain": [
              "'cuda'"
            ],
            "application/vnd.google.colaboratory.intrinsic+json": {
              "type": "string"
            }
          },
          "metadata": {},
          "execution_count": 32
        }
      ]
    },
    {
      "cell_type": "code",
      "source": [
        "model = GRU_Twitter(max_words).to(device)"
      ],
      "metadata": {
        "id": "w7liLuNgMCW2"
      },
      "execution_count": 33,
      "outputs": []
    },
    {
      "cell_type": "markdown",
      "source": [
        "Выведем параметры модели, а также зададим оптимизатор и ошибку обучения"
      ],
      "metadata": {
        "id": "e3Ctb5FvMXU3"
      }
    },
    {
      "cell_type": "code",
      "source": [
        "optimizer = torch.optim.Adam(model.parameters(), lr=0.001)\n",
        "criterion = nn.BCELoss()"
      ],
      "metadata": {
        "id": "d-E-pvmJMCbo"
      },
      "execution_count": 34,
      "outputs": []
    },
    {
      "cell_type": "code",
      "source": [
        "print(model)\n",
        "print(\"Parameters:\", sum([param.nelement() for param in model.parameters()]))"
      ],
      "metadata": {
        "colab": {
          "base_uri": "https://localhost:8080/"
        },
        "id": "fGkvUQQ3MCZZ",
        "outputId": "c0fded99-a5f7-4313-fa4b-d9e6410dc7b0"
      },
      "execution_count": 35,
      "outputs": [
        {
          "output_type": "stream",
          "name": "stdout",
          "text": [
            "GRU_Twitter(\n",
            "  (embeddings): Embedding(10000, 128, padding_idx=0)\n",
            "  (gru): GRU(128, 128, num_layers=2, batch_first=True)\n",
            "  (linear): Linear(in_features=128, out_features=1, bias=True)\n",
            "  (dropout): Dropout(p=0.2, inplace=False)\n",
            ")\n",
            "Parameters: 1478273\n"
          ]
        }
      ]
    },
    {
      "cell_type": "markdown",
      "source": [
        "Посчитаем метрику f1_score из-за сильного дисбаланса классов"
      ],
      "metadata": {
        "id": "tFAUeA5NYBAE"
      }
    },
    {
      "cell_type": "code",
      "source": [
        "!pip install torchmetrics"
      ],
      "metadata": {
        "colab": {
          "base_uri": "https://localhost:8080/"
        },
        "id": "IJd72kb0ZrwZ",
        "outputId": "51e54a59-d512-41d2-a53f-0526febb8b4f"
      },
      "execution_count": 36,
      "outputs": [
        {
          "output_type": "stream",
          "name": "stdout",
          "text": [
            "Looking in indexes: https://pypi.org/simple, https://us-python.pkg.dev/colab-wheels/public/simple/\n",
            "Requirement already satisfied: torchmetrics in /usr/local/lib/python3.9/dist-packages (0.11.4)\n",
            "Requirement already satisfied: numpy>=1.17.2 in /usr/local/lib/python3.9/dist-packages (from torchmetrics) (1.22.4)\n",
            "Requirement already satisfied: torch>=1.8.1 in /usr/local/lib/python3.9/dist-packages (from torchmetrics) (1.13.1+cu116)\n",
            "Requirement already satisfied: packaging in /usr/local/lib/python3.9/dist-packages (from torchmetrics) (23.0)\n",
            "Requirement already satisfied: typing-extensions in /usr/local/lib/python3.9/dist-packages (from torch>=1.8.1->torchmetrics) (4.5.0)\n"
          ]
        }
      ]
    },
    {
      "cell_type": "code",
      "source": [
        "import torchmetrics"
      ],
      "metadata": {
        "id": "ymLsE3NlZnLl"
      },
      "execution_count": 37,
      "outputs": []
    },
    {
      "cell_type": "code",
      "source": [
        "train_f1_score = torchmetrics.F1Score(task='binary').to(device)\n",
        "test_f1_score = torchmetrics.F1Score(task='binary').to(device)"
      ],
      "metadata": {
        "id": "nsK6EgMIYDB6"
      },
      "execution_count": 38,
      "outputs": []
    },
    {
      "cell_type": "markdown",
      "source": [
        "**Начнем процесс обучения**"
      ],
      "metadata": {
        "id": "zIRscnFBM05i"
      }
    },
    {
      "cell_type": "code",
      "source": [
        "model = model.to(device)\n",
        "model.train()\n",
        "th = 0.5\n",
        "\n",
        "train_loss_history = []\n",
        "test_loss_history = []\n",
        "\n",
        "\n",
        "for epoch in range(epochs):  \n",
        "    running_items, running_right, all_f1_score_train = 0.0, 0.0, 0.0\n",
        "    for i, data in enumerate(train_loader, 0):\n",
        "        inputs, labels = data[0].to(device), data[1].to(device)\n",
        "        \n",
        "        # обнуляем градиент\n",
        "        optimizer.zero_grad()\n",
        "        outputs = model(inputs)\n",
        "        train_f1_score(outputs.squeeze(), labels)\n",
        "        \n",
        "        loss = criterion(outputs, labels.float().view(-1, 1))\n",
        "        loss.backward()\n",
        "        optimizer.step()\n",
        "\n",
        "        # подсчет ошибки на обучении\n",
        "        loss = loss.item()\n",
        "        running_items += len(labels)\n",
        "        # подсчет метрики на обучении\n",
        "        pred_labels = torch.squeeze((outputs > th).int())\n",
        "        running_right += (labels == pred_labels).sum()\n",
        "        all_f1_score_train += train_f1_score.compute().item()\n",
        "        \n",
        "    # выводим статистику о процессе обучения (переводим модель в валидацию)\n",
        "    model.eval()\n",
        "    \n",
        "    print(f'Epoch [{epoch + 1}/{epochs}]. ' \\\n",
        "            f'Step [{i + 1}/{len(train_loader)}]. \\n' \\\n",
        "            f'Train: Loss: {loss:.3f}. ' \\\n",
        "            f'Acc: {running_right / running_items:.3f}, ' \\\n",
        "            f'f1_score_train: {all_f1_score_train / (i+1):.3f}, ')\n",
        "\n",
        "    \n",
        "    running_loss, running_items, running_right, all_f1_score_train = 0.0, 0.0, 0.0, 0.0\n",
        "    train_f1_score.reset()\n",
        "    train_loss_history.append(loss)\n",
        "\n",
        "        # выводим статистику на тестовых данных\n",
        "    test_running_right, test_running_total, test_loss, all_f1_score_test = 0.0, 0.0, 0.0, 0.0\n",
        "    for j, data in enumerate(val_loader):\n",
        "        \n",
        "        test_outputs = model(data[0].to(device))\n",
        "        test_labels = data[1].to(device)\n",
        "\n",
        "        # подсчет ошибки на тесте\n",
        "        test_loss = criterion(test_outputs, test_labels.float().view(-1, 1))\n",
        "        \n",
        "        # подсчет метрики на тесте\n",
        "        test_f1_score(test_outputs.squeeze(), test_labels)\n",
        "        \n",
        "        test_running_total += len(data[1])\n",
        "        pred_test_labels = torch.squeeze((test_outputs > th).int())\n",
        "        test_running_right += (test_labels == pred_test_labels).sum()\n",
        "        \n",
        "        all_f1_score_test += test_f1_score.compute().item()\n",
        "\n",
        "    test_loss_history.append(test_loss.item())\n",
        "    print(f'Test:  Loss: {test_loss:.3f}. Acc: {test_running_right / test_running_total:.3f},', end=' ')\n",
        "    \n",
        "    print(f'f1_score_test:  {all_f1_score_test / (j+1):.3f}\\n')\n",
        "    test_f1_score.reset()\n",
        "    \n",
        "    model.train()\n",
        "        \n",
        "print('Training is finished!')"
      ],
      "metadata": {
        "colab": {
          "base_uri": "https://localhost:8080/"
        },
        "id": "N3BhnIzDMCeS",
        "outputId": "801fa91a-389c-4a29-d6a0-b511d50b992b"
      },
      "execution_count": 39,
      "outputs": [
        {
          "output_type": "stream",
          "name": "stdout",
          "text": [
            "Epoch [1/20]. Step [47/47]. \n",
            "Train: Loss: 0.253. Acc: 0.930, f1_score_train: 0.000, \n",
            "Test:  Loss: 0.052. Acc: 0.930, f1_score_test:  0.000\n",
            "\n",
            "Epoch [2/20]. Step [47/47]. \n",
            "Train: Loss: 0.190. Acc: 0.930, f1_score_train: 0.000, \n",
            "Test:  Loss: 0.049. Acc: 0.930, f1_score_test:  0.002\n",
            "\n",
            "Epoch [3/20]. Step [47/47]. \n",
            "Train: Loss: 0.130. Acc: 0.943, f1_score_train: 0.341, \n",
            "Test:  Loss: 0.031. Acc: 0.949, f1_score_test:  0.546\n",
            "\n",
            "Epoch [4/20]. Step [47/47]. \n",
            "Train: Loss: 0.156. Acc: 0.955, f1_score_train: 0.576, \n",
            "Test:  Loss: 0.016. Acc: 0.952, f1_score_test:  0.567\n",
            "\n",
            "Epoch [5/20]. Step [47/47]. \n",
            "Train: Loss: 0.120. Acc: 0.962, f1_score_train: 0.684, \n",
            "Test:  Loss: 0.024. Acc: 0.955, f1_score_test:  0.598\n",
            "\n",
            "Epoch [6/20]. Step [47/47]. \n",
            "Train: Loss: 0.088. Acc: 0.968, f1_score_train: 0.744, \n",
            "Test:  Loss: 0.012. Acc: 0.954, f1_score_test:  0.632\n",
            "\n",
            "Epoch [7/20]. Step [47/47]. \n",
            "Train: Loss: 0.063. Acc: 0.971, f1_score_train: 0.776, \n",
            "Test:  Loss: 0.015. Acc: 0.957, f1_score_test:  0.663\n",
            "\n",
            "Epoch [8/20]. Step [47/47]. \n",
            "Train: Loss: 0.071. Acc: 0.975, f1_score_train: 0.820, \n",
            "Test:  Loss: 0.012. Acc: 0.957, f1_score_test:  0.622\n",
            "\n",
            "Epoch [9/20]. Step [47/47]. \n",
            "Train: Loss: 0.074. Acc: 0.980, f1_score_train: 0.858, \n",
            "Test:  Loss: 0.500. Acc: 0.959, f1_score_test:  0.635\n",
            "\n",
            "Epoch [10/20]. Step [47/47]. \n",
            "Train: Loss: 0.058. Acc: 0.982, f1_score_train: 0.876, \n",
            "Test:  Loss: 0.177. Acc: 0.958, f1_score_test:  0.655\n",
            "\n",
            "Epoch [11/20]. Step [47/47]. \n",
            "Train: Loss: 0.063. Acc: 0.986, f1_score_train: 0.909, \n",
            "Test:  Loss: 0.043. Acc: 0.960, f1_score_test:  0.662\n",
            "\n",
            "Epoch [12/20]. Step [47/47]. \n",
            "Train: Loss: 0.023. Acc: 0.987, f1_score_train: 0.899, \n",
            "Test:  Loss: 0.002. Acc: 0.961, f1_score_test:  0.734\n",
            "\n",
            "Epoch [13/20]. Step [47/47]. \n",
            "Train: Loss: 0.025. Acc: 0.989, f1_score_train: 0.921, \n",
            "Test:  Loss: 0.479. Acc: 0.961, f1_score_test:  0.654\n",
            "\n",
            "Epoch [14/20]. Step [47/47]. \n",
            "Train: Loss: 0.023. Acc: 0.991, f1_score_train: 0.927, \n",
            "Test:  Loss: 0.001. Acc: 0.961, f1_score_test:  0.683\n",
            "\n",
            "Epoch [15/20]. Step [47/47]. \n",
            "Train: Loss: 0.026. Acc: 0.991, f1_score_train: 0.942, \n",
            "Test:  Loss: 0.024. Acc: 0.961, f1_score_test:  0.683\n",
            "\n",
            "Epoch [16/20]. Step [47/47]. \n",
            "Train: Loss: 0.034. Acc: 0.993, f1_score_train: 0.955, \n",
            "Test:  Loss: 0.003. Acc: 0.962, f1_score_test:  0.717\n",
            "\n",
            "Epoch [17/20]. Step [47/47]. \n",
            "Train: Loss: 0.021. Acc: 0.993, f1_score_train: 0.957, \n",
            "Test:  Loss: 0.001. Acc: 0.959, f1_score_test:  0.690\n",
            "\n",
            "Epoch [18/20]. Step [47/47]. \n",
            "Train: Loss: 0.025. Acc: 0.995, f1_score_train: 0.968, \n",
            "Test:  Loss: 0.000. Acc: 0.960, f1_score_test:  0.676\n",
            "\n",
            "Epoch [19/20]. Step [47/47]. \n",
            "Train: Loss: 0.021. Acc: 0.994, f1_score_train: 0.952, \n",
            "Test:  Loss: 0.002. Acc: 0.956, f1_score_test:  0.628\n",
            "\n",
            "Epoch [20/20]. Step [47/47]. \n",
            "Train: Loss: 0.021. Acc: 0.995, f1_score_train: 0.966, \n",
            "Test:  Loss: 0.006. Acc: 0.959, f1_score_test:  0.662\n",
            "\n",
            "Training is finished!\n"
          ]
        }
      ]
    },
    {
      "cell_type": "markdown",
      "source": [
        "Визуализируем результаты"
      ],
      "metadata": {
        "id": "_oTgmEIBM-yo"
      }
    },
    {
      "cell_type": "code",
      "source": [
        "import matplotlib.pyplot as plt\n",
        "\n",
        "plt.title('Loss history')\n",
        "plt.grid(True)\n",
        "plt.ylabel('Loss')\n",
        "plt.xlabel('Epoch')\n",
        "plt.plot(train_loss_history, label='train')\n",
        "plt.plot(test_loss_history, label='test')\n",
        "plt.legend();"
      ],
      "metadata": {
        "colab": {
          "base_uri": "https://localhost:8080/",
          "height": 295
        },
        "id": "3AbVLgQRMCgH",
        "outputId": "5901656f-f6ca-4e79-c757-931f4fa6c469"
      },
      "execution_count": 40,
      "outputs": [
        {
          "output_type": "display_data",
          "data": {
            "text/plain": [
              "<Figure size 432x288 with 1 Axes>"
            ],
            "image/png": "[encoded data removed]"
          },
          "metadata": {
            "needs_background": "light"
          }
        }
      ]
    },
    {
      "cell_type": "markdown",
      "source": [
        "**Полученные выводы:**"
      ],
      "metadata": {
        "id": "a_mpfU5bNtYF"
      }
    },
    {
      "cell_type": "markdown",
      "source": [
        "*max_words = 1000  \n",
        "max_len = 10  \n",
        "epochs = 20*  "
      ],
      "metadata": {
        "id": "o915nB9sOLAp"
      }
    },
    {
      "cell_type": "markdown",
      "source": [
        "Epoch [15/15]. Step [47/47].  \n",
        "Train: Loss: 0.096. Acc: 0.975, f1_score_train: 0.812,   \n",
        "Test:  Loss: 0.000. Acc: 0.943, f1_score_test:  0.602"
      ],
      "metadata": {
        "id": "4zLhDtwYOLDT"
      }
    },
    {
      "cell_type": "markdown",
      "source": [
        "*max_words = 5000  \n",
        "max_len = 20  \n",
        "epochs = 15*"
      ],
      "metadata": {
        "id": "B1-q0JaJOLFo"
      }
    },
    {
      "cell_type": "markdown",
      "source": [
        "Epoch [15/15]. Step [47/47].   \n",
        "Train: Loss: 0.042. Acc: 0.990, f1_score_train: 0.932,   \n",
        "Test:  Loss: 0.000. Acc: 0.957, f1_score_test:  0.657  "
      ],
      "metadata": {
        "id": "f__Z_c9GPpnP"
      }
    },
    {
      "cell_type": "markdown",
      "source": [
        "*max_words = 10000  \n",
        "max_len = 30  \n",
        "epochs = 20*"
      ],
      "metadata": {
        "id": "rW9vUDqOPpti"
      }
    },
    {
      "cell_type": "markdown",
      "source": [
        "Epoch [20/20]. Step [47/47].  \n",
        "Train: Loss: 0.021. Acc: 0.995, f1_score_train: 0.966,   \n",
        "Test:  Loss: 0.006. Acc: 0.959, f1_score_test:  0.662"
      ],
      "metadata": {
        "id": "QB7oJw0LPp6V"
      }
    },
    {
      "cell_type": "markdown",
      "source": [
        "**Выводы**"
      ],
      "metadata": {
        "id": "Bk-FWsknd0HF"
      }
    },
    {
      "cell_type": "markdown",
      "source": [
        "Таким образом мы можем сделать вывод о том, что увеличение словаря, а также длины при одинаковом количестве эпох.  \n",
        "При этом мы можем наблюдать некоторые выбросы ошибки обучения на тестовой выборке, скорее всего обусловленные самим процессом обучения модели.\n",
        "Тем не менее, мы можем сделать вывод о том, что увеличение количества и качества параметров обучения ведет к повышению качества результатов.  \n",
        "Однако это одновременно вызывает значительный рост потребностей в вычислительных ресурсах(\n",
        "Также с большой вероятностью улучшению качества результатов приведет усложнение арзхитектуры сети, однако это тооже потребует дополнительных ресурсов, в том числе временных, на процесс обучения."
      ],
      "metadata": {
        "id": "7D1-vmY4RhqK"
      }
    },
    {
      "cell_type": "code",
      "source": [],
      "metadata": {
        "id": "wBdnX3M3GP59"
      },
      "execution_count": 40,
      "outputs": []
    }
  ]
}