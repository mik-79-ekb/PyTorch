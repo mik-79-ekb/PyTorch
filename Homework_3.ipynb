{
 "cells": [
  {
   "cell_type": "markdown",
   "metadata": {},
   "source": [
    "## Фреймворк PyTorch для разработки искусственных нейронных сетей"
   ]
  },
  {
   "cell_type": "markdown",
   "metadata": {},
   "source": [
    "### Домашнее задание №3"
   ]
  },
  {
   "cell_type": "markdown",
   "metadata": {},
   "source": [
    "**Dataset, Dataloader, BatchNorm, Dropout, Оптимизация**"
   ]
  },
  {
   "cell_type": "markdown",
   "metadata": {},
   "source": [
    "Будем практиковаться на датасете недвижимости (sklearn.datasets.fetch_california_housing)\n",
    "\n",
    "Ваша задача:\n",
    "1. Создать Dataset для загрузки данных\n",
    "2. Обернуть его в Dataloader\n",
    "3. Написать архитектуру сети, которая предсказывает стоимость недвижимости. Сеть должна включать BatchNorm слои и Dropout (или НЕ включать, но нужно обосновать)\n",
    "4. Сравните сходимость Adam, RMSProp и SGD, сделайте вывод по качеству работы модели\n",
    "\n",
    "train-test разделение нужно сделать с помощью sklearn random_state=13, test_size = 0.25"
   ]
  },
  {
   "cell_type": "markdown",
   "metadata": {},
   "source": [
    "**Библиотеки**"
   ]
  },
  {
   "cell_type": "code",
   "execution_count": 1,
   "metadata": {},
   "outputs": [],
   "source": [
    "import math\n",
    "import torch\n",
    "import torch.nn as nn\n",
    "import numpy as np\n",
    "import pandas as pd\n",
    "import warnings\n",
    "warnings.filterwarnings('ignore')"
   ]
  },
  {
   "cell_type": "code",
   "execution_count": 2,
   "metadata": {},
   "outputs": [],
   "source": [
    "from sklearn.datasets import fetch_california_housing\n",
    "from sklearn.model_selection import train_test_split"
   ]
  },
  {
   "cell_type": "markdown",
   "metadata": {},
   "source": [
    "**Классы и функции**"
   ]
  },
  {
   "cell_type": "code",
   "execution_count": 3,
   "metadata": {},
   "outputs": [],
   "source": [
    "class HouseDataset(torch.utils.data.Dataset):\n",
    "    def __init__(self, init_dataset, init_target):\n",
    "        self._base_dataset = init_dataset\n",
    "        self._base_target = init_target\n",
    "\n",
    "    def __len__(self):\n",
    "        return len(self._base_dataset)\n",
    "\n",
    "    def __getitem__(self, index):\n",
    "        house, target = np.array(self._base_dataset[index]), np.array(self._base_target[index])\n",
    "        return house, target"
   ]
  },
  {
   "cell_type": "markdown",
   "metadata": {},
   "source": [
    "### Dataset"
   ]
  },
  {
   "cell_type": "code",
   "execution_count": 4,
   "metadata": {
    "scrolled": true
   },
   "outputs": [
    {
     "data": {
      "text/html": [
       "<div>\n",
       "<style scoped>\n",
       "    .dataframe tbody tr th:only-of-type {\n",
       "        vertical-align: middle;\n",
       "    }\n",
       "\n",
       "    .dataframe tbody tr th {\n",
       "        vertical-align: top;\n",
       "    }\n",
       "\n",
       "    .dataframe thead th {\n",
       "        text-align: right;\n",
       "    }\n",
       "</style>\n",
       "<table border=\"1\" class=\"dataframe\">\n",
       "  <thead>\n",
       "    <tr style=\"text-align: right;\">\n",
       "      <th></th>\n",
       "      <th>MedInc</th>\n",
       "      <th>HouseAge</th>\n",
       "      <th>AveRooms</th>\n",
       "      <th>AveBedrms</th>\n",
       "      <th>Population</th>\n",
       "      <th>AveOccup</th>\n",
       "      <th>Latitude</th>\n",
       "      <th>Longitude</th>\n",
       "      <th>MedHouseVal</th>\n",
       "    </tr>\n",
       "  </thead>\n",
       "  <tbody>\n",
       "    <tr>\n",
       "      <th>0</th>\n",
       "      <td>8.3252</td>\n",
       "      <td>41.0</td>\n",
       "      <td>6.984127</td>\n",
       "      <td>1.023810</td>\n",
       "      <td>322.0</td>\n",
       "      <td>2.555556</td>\n",
       "      <td>37.88</td>\n",
       "      <td>-122.23</td>\n",
       "      <td>4.526</td>\n",
       "    </tr>\n",
       "    <tr>\n",
       "      <th>1</th>\n",
       "      <td>8.3014</td>\n",
       "      <td>21.0</td>\n",
       "      <td>6.238137</td>\n",
       "      <td>0.971880</td>\n",
       "      <td>2401.0</td>\n",
       "      <td>2.109842</td>\n",
       "      <td>37.86</td>\n",
       "      <td>-122.22</td>\n",
       "      <td>3.585</td>\n",
       "    </tr>\n",
       "    <tr>\n",
       "      <th>2</th>\n",
       "      <td>7.2574</td>\n",
       "      <td>52.0</td>\n",
       "      <td>8.288136</td>\n",
       "      <td>1.073446</td>\n",
       "      <td>496.0</td>\n",
       "      <td>2.802260</td>\n",
       "      <td>37.85</td>\n",
       "      <td>-122.24</td>\n",
       "      <td>3.521</td>\n",
       "    </tr>\n",
       "    <tr>\n",
       "      <th>3</th>\n",
       "      <td>5.6431</td>\n",
       "      <td>52.0</td>\n",
       "      <td>5.817352</td>\n",
       "      <td>1.073059</td>\n",
       "      <td>558.0</td>\n",
       "      <td>2.547945</td>\n",
       "      <td>37.85</td>\n",
       "      <td>-122.25</td>\n",
       "      <td>3.413</td>\n",
       "    </tr>\n",
       "    <tr>\n",
       "      <th>4</th>\n",
       "      <td>3.8462</td>\n",
       "      <td>52.0</td>\n",
       "      <td>6.281853</td>\n",
       "      <td>1.081081</td>\n",
       "      <td>565.0</td>\n",
       "      <td>2.181467</td>\n",
       "      <td>37.85</td>\n",
       "      <td>-122.25</td>\n",
       "      <td>3.422</td>\n",
       "    </tr>\n",
       "  </tbody>\n",
       "</table>\n",
       "</div>"
      ],
      "text/plain": [
       "   MedInc  HouseAge  AveRooms  AveBedrms  Population  AveOccup  Latitude  \\\n",
       "0  8.3252      41.0  6.984127   1.023810       322.0  2.555556     37.88   \n",
       "1  8.3014      21.0  6.238137   0.971880      2401.0  2.109842     37.86   \n",
       "2  7.2574      52.0  8.288136   1.073446       496.0  2.802260     37.85   \n",
       "3  5.6431      52.0  5.817352   1.073059       558.0  2.547945     37.85   \n",
       "4  3.8462      52.0  6.281853   1.081081       565.0  2.181467     37.85   \n",
       "\n",
       "   Longitude  MedHouseVal  \n",
       "0    -122.23        4.526  \n",
       "1    -122.22        3.585  \n",
       "2    -122.24        3.521  \n",
       "3    -122.25        3.413  \n",
       "4    -122.25        3.422  "
      ]
     },
     "execution_count": 4,
     "metadata": {},
     "output_type": "execute_result"
    }
   ],
   "source": [
    "california_housing = fetch_california_housing(as_frame=True)\n",
    "california_housing = california_housing.frame\n",
    "california_housing.head()"
   ]
  },
  {
   "cell_type": "code",
   "execution_count": 5,
   "metadata": {
    "scrolled": true
   },
   "outputs": [
    {
     "data": {
      "text/plain": [
       "(20640, 9)"
      ]
     },
     "execution_count": 5,
     "metadata": {},
     "output_type": "execute_result"
    }
   ],
   "source": [
    "california_housing.shape"
   ]
  },
  {
   "cell_type": "markdown",
   "metadata": {},
   "source": [
    "Проверка на пустые значения"
   ]
  },
  {
   "cell_type": "code",
   "execution_count": 6,
   "metadata": {},
   "outputs": [
    {
     "name": "stdout",
     "output_type": "stream",
     "text": [
      "<class 'pandas.core.frame.DataFrame'>\n",
      "RangeIndex: 20640 entries, 0 to 20639\n",
      "Data columns (total 9 columns):\n",
      " #   Column       Non-Null Count  Dtype  \n",
      "---  ------       --------------  -----  \n",
      " 0   MedInc       20640 non-null  float64\n",
      " 1   HouseAge     20640 non-null  float64\n",
      " 2   AveRooms     20640 non-null  float64\n",
      " 3   AveBedrms    20640 non-null  float64\n",
      " 4   Population   20640 non-null  float64\n",
      " 5   AveOccup     20640 non-null  float64\n",
      " 6   Latitude     20640 non-null  float64\n",
      " 7   Longitude    20640 non-null  float64\n",
      " 8   MedHouseVal  20640 non-null  float64\n",
      "dtypes: float64(9)\n",
      "memory usage: 1.4 MB\n"
     ]
    }
   ],
   "source": [
    "california_housing.info()"
   ]
  },
  {
   "cell_type": "code",
   "execution_count": 7,
   "metadata": {},
   "outputs": [
    {
     "data": {
      "text/plain": [
       "Index(['MedInc', 'HouseAge', 'AveRooms', 'AveBedrms', 'Population', 'AveOccup',\n",
       "       'Latitude', 'Longitude', 'MedHouseVal'],\n",
       "      dtype='object')"
      ]
     },
     "execution_count": 7,
     "metadata": {},
     "output_type": "execute_result"
    }
   ],
   "source": [
    "california_housing.columns"
   ]
  },
  {
   "cell_type": "markdown",
   "metadata": {},
   "source": [
    "**Разделение на трейн и тест**"
   ]
  },
  {
   "cell_type": "code",
   "execution_count": 8,
   "metadata": {},
   "outputs": [],
   "source": [
    "X = california_housing"
   ]
  },
  {
   "cell_type": "code",
   "execution_count": 9,
   "metadata": {},
   "outputs": [],
   "source": [
    "target_name = 'MedHouseVal'"
   ]
  },
  {
   "cell_type": "code",
   "execution_count": 10,
   "metadata": {
    "scrolled": true
   },
   "outputs": [],
   "source": [
    "y = X[target_name].values\n",
    "X = X.drop(columns=target_name)\n",
    "X = X.values"
   ]
  },
  {
   "cell_type": "code",
   "execution_count": 11,
   "metadata": {},
   "outputs": [],
   "source": [
    "X = torch.tensor(X, dtype=torch.float)\n",
    "y = torch.tensor(y, dtype=torch.float)"
   ]
  },
  {
   "cell_type": "code",
   "execution_count": 12,
   "metadata": {},
   "outputs": [
    {
     "data": {
      "text/plain": [
       "(torch.Size([20640, 8]), torch.Size([20640]))"
      ]
     },
     "execution_count": 12,
     "metadata": {},
     "output_type": "execute_result"
    }
   ],
   "source": [
    "X.shape, y.shape"
   ]
  },
  {
   "cell_type": "code",
   "execution_count": 13,
   "metadata": {},
   "outputs": [],
   "source": [
    "X_train, X_test, y_train, y_test = train_test_split(X, y, shuffle=True, random_state=13, test_size = 0.25)"
   ]
  },
  {
   "cell_type": "code",
   "execution_count": 14,
   "metadata": {
    "scrolled": false
   },
   "outputs": [
    {
     "data": {
      "text/plain": [
       "(torch.Size([15480, 8]),\n",
       " torch.Size([5160, 8]),\n",
       " torch.Size([15480]),\n",
       " torch.Size([5160]))"
      ]
     },
     "execution_count": 14,
     "metadata": {},
     "output_type": "execute_result"
    }
   ],
   "source": [
    "X_train.shape, X_test.shape, y_train.shape, y_test.shape "
   ]
  },
  {
   "cell_type": "markdown",
   "metadata": {},
   "source": [
    "**Создание Dataset для загрузки данных**"
   ]
  },
  {
   "cell_type": "code",
   "execution_count": 15,
   "metadata": {},
   "outputs": [],
   "source": [
    "dataset = HouseDataset(X_train, y_train)"
   ]
  },
  {
   "cell_type": "code",
   "execution_count": 16,
   "metadata": {
    "scrolled": false
   },
   "outputs": [
    {
     "data": {
      "text/plain": [
       "(array([ 3.5174000e+00,  3.6000000e+01,  4.5479450e+00,  1.0943683e+00,\n",
       "         1.3570000e+03,  2.0654490e+00,  3.4209999e+01, -1.1823000e+02],\n",
       "       dtype=float32),\n",
       " array(2.68, dtype=float32))"
      ]
     },
     "execution_count": 16,
     "metadata": {},
     "output_type": "execute_result"
    }
   ],
   "source": [
    "# проверка\n",
    "X_train[0],y_train[0]\n",
    "dataset[0]"
   ]
  },
  {
   "cell_type": "code",
   "execution_count": 17,
   "metadata": {},
   "outputs": [],
   "source": [
    "test_dataset = HouseDataset(X_test, y_test)"
   ]
  },
  {
   "cell_type": "markdown",
   "metadata": {},
   "source": [
    "**Создание Dataloader**"
   ]
  },
  {
   "cell_type": "code",
   "execution_count": 18,
   "metadata": {},
   "outputs": [],
   "source": [
    "batch_size = 10\n",
    "length = 8"
   ]
  },
  {
   "cell_type": "code",
   "execution_count": 19,
   "metadata": {},
   "outputs": [],
   "source": [
    "train_loader = torch.utils.data.DataLoader(dataset,\n",
    "                          batch_size=128,\n",
    "                          shuffle=True)"
   ]
  },
  {
   "cell_type": "code",
   "execution_count": 20,
   "metadata": {},
   "outputs": [],
   "source": [
    "test_loader = torch.utils.data.DataLoader(test_dataset, batch_size=batch_size,\n",
    "                                          shuffle=False)"
   ]
  },
  {
   "cell_type": "markdown",
   "metadata": {},
   "source": [
    "**Создание архитектуры сети**"
   ]
  },
  {
   "cell_type": "code",
   "execution_count": 21,
   "metadata": {},
   "outputs": [],
   "source": [
    "class Perceptron(nn.Module):\n",
    "    def __init__(self, input_dim, output_dim, activation=\"relu\"):\n",
    "        super().__init__()\n",
    "        self.fc = nn.Linear(input_dim, output_dim)\n",
    "        self.activation = activation\n",
    "        \n",
    "    def forward(self, x):\n",
    "        x = self.fc(x)\n",
    "        if self.activation == \"relu\":\n",
    "            return F.relu(x)\n",
    "        if self.activation == \"relu\":\n",
    "            return F.relu(x)\n",
    "        raise RuntimeError\n",
    "        \n",
    "\n",
    "class FeedForward(nn.Module):\n",
    "    def __init__(self, input_dim, hidden_dim):\n",
    "        super().__init__()\n",
    "        self.fc1 = Perceptron(input_dim, hidden_dim)\n",
    "        self.bn = nn.BatchNorm1d(hidden_dim)\n",
    "        self.dp = nn.Dropout(0.25)\n",
    "        self.fc2 = Perceptron(hidden_dim, 1, \"relu\")\n",
    "        \n",
    "    def forward(self, x):\n",
    "        x = self.fc1(x)\n",
    "        x = self.dp(x)\n",
    "        x = self.bn(x)\n",
    "        x = self.fc2(x)\n",
    "        return x"
   ]
  },
  {
   "cell_type": "markdown",
   "metadata": {},
   "source": [
    "*SGD*"
   ]
  },
  {
   "cell_type": "code",
   "execution_count": 22,
   "metadata": {},
   "outputs": [],
   "source": [
    "net = FeedForward(length, batch_size*8)\n",
    "optimizer = torch.optim.SGD(net.parameters(), lr=0.01)\n",
    "criterion = torch.nn.MSELoss()"
   ]
  },
  {
   "cell_type": "code",
   "execution_count": 23,
   "metadata": {},
   "outputs": [],
   "source": [
    "import torch.nn.functional as F"
   ]
  },
  {
   "cell_type": "code",
   "execution_count": 24,
   "metadata": {},
   "outputs": [
    {
     "name": "stdout",
     "output_type": "stream",
     "text": [
      "Epoch [1/10]. Step [1/121]. Loss: 0.035. Acc: 0.000. Test acc: 0.000\n",
      "Epoch [1/10]. Step [51/121]. Loss: 0.394. Acc: 0.000. Test acc: 0.000\n",
      "Epoch [1/10]. Step [101/121]. Loss: 0.158. Acc: 0.000. Test acc: 0.000\n",
      "Epoch [2/10]. Step [1/121]. Loss: 0.013. Acc: 0.000. Test acc: 0.000\n",
      "Epoch [2/10]. Step [51/121]. Loss: 0.143. Acc: 0.000. Test acc: 0.000\n",
      "Epoch [2/10]. Step [101/121]. Loss: 0.122. Acc: 0.000. Test acc: 0.000\n",
      "Epoch [3/10]. Step [1/121]. Loss: 0.010. Acc: 0.000. Test acc: 0.000\n",
      "Epoch [3/10]. Step [51/121]. Loss: 0.110. Acc: 0.000. Test acc: 0.000\n",
      "Epoch [3/10]. Step [101/121]. Loss: 0.121. Acc: 0.000. Test acc: 0.000\n",
      "Epoch [4/10]. Step [1/121]. Loss: 0.010. Acc: 0.000. Test acc: 0.000\n",
      "Epoch [4/10]. Step [51/121]. Loss: 0.117. Acc: 0.000. Test acc: 0.000\n",
      "Epoch [4/10]. Step [101/121]. Loss: 0.134. Acc: 0.000. Test acc: 0.000\n",
      "Epoch [5/10]. Step [1/121]. Loss: 0.010. Acc: 0.000. Test acc: 0.000\n",
      "Epoch [5/10]. Step [51/121]. Loss: 0.115. Acc: 0.000. Test acc: 0.000\n",
      "Epoch [5/10]. Step [101/121]. Loss: 0.110. Acc: 0.000. Test acc: 0.000\n",
      "Epoch [6/10]. Step [1/121]. Loss: 0.009. Acc: 0.000. Test acc: 0.000\n",
      "Epoch [6/10]. Step [51/121]. Loss: 0.103. Acc: 0.000. Test acc: 0.000\n",
      "Epoch [6/10]. Step [101/121]. Loss: 0.118. Acc: 0.000. Test acc: 0.000\n",
      "Epoch [7/10]. Step [1/121]. Loss: 0.011. Acc: 0.000. Test acc: 0.000\n",
      "Epoch [7/10]. Step [51/121]. Loss: 0.129. Acc: 0.000. Test acc: 0.000\n",
      "Epoch [7/10]. Step [101/121]. Loss: 0.135. Acc: 0.000. Test acc: 0.000\n",
      "Epoch [8/10]. Step [1/121]. Loss: 0.010. Acc: 0.000. Test acc: 0.000\n",
      "Epoch [8/10]. Step [51/121]. Loss: 0.110. Acc: 0.000. Test acc: 0.000\n",
      "Epoch [8/10]. Step [101/121]. Loss: 0.146. Acc: 0.000. Test acc: 0.000\n",
      "Epoch [9/10]. Step [1/121]. Loss: 0.010. Acc: 0.000. Test acc: 0.000\n",
      "Epoch [9/10]. Step [51/121]. Loss: 0.109. Acc: 0.000. Test acc: 0.000\n",
      "Epoch [9/10]. Step [101/121]. Loss: 0.118. Acc: 0.000. Test acc: 0.000\n",
      "Epoch [10/10]. Step [1/121]. Loss: 0.009. Acc: 0.000. Test acc: 0.000\n",
      "Epoch [10/10]. Step [51/121]. Loss: 0.103. Acc: 0.000. Test acc: 0.000\n",
      "Epoch [10/10]. Step [101/121]. Loss: 0.111. Acc: 0.000. Test acc: 0.000\n",
      "Training is finished!\n"
     ]
    }
   ],
   "source": [
    "num_epochs = 10\n",
    "\n",
    "for epoch in range(num_epochs):  \n",
    "    running_loss, running_items, running_right = 0.0, 0.0, 0.0\n",
    "    for i, data in enumerate(train_loader):\n",
    "        inputs, labels = data[0], data[1]\n",
    "\n",
    "        # обнуляем градиент\n",
    "        optimizer.zero_grad()\n",
    "\n",
    "        outputs = net(inputs)\n",
    "        loss = criterion(outputs, labels)\n",
    "        loss.backward()\n",
    "        optimizer.step()\n",
    "\n",
    "        # выводим статистику о процессе обучения\n",
    "        running_loss += loss.item()\n",
    "        running_items += len(labels)\n",
    "#        running_right += (labels == torch.max(outputs, 1)[1]).sum()\n",
    "        \n",
    "        # выводим статистику о процессе обучения\n",
    "        if i % 50 == 0:    # печатаем каждые 50 mini-batches\n",
    "            net.eval()\n",
    "            \n",
    "            print(f'Epoch [{epoch + 1}/{num_epochs}]. ' \\\n",
    "                  f'Step [{i + 1}/{len(train_loader)}]. ' \\\n",
    "                  f'Loss: {running_loss / running_items:.3f}. ' \\\n",
    "                  f'Acc: {running_right / running_items:.3f}', end='. ')\n",
    "            running_loss, running_items, running_right = 0.0, 0.0, 0.0\n",
    "\n",
    "            test_running_right, test_running_total = 0.0, 0.0\n",
    "            for i, data in enumerate(test_loader):\n",
    "                running_loss += loss.item()\n",
    "                test_outputs = net(data[0])\n",
    "                test_running_total += len(data[1])\n",
    "                test_running_right += (data[1] == torch.max(test_outputs, 1)[1]).sum()\n",
    "            \n",
    "            print(f'Test acc: {test_running_right / test_running_total:.3f}')\n",
    "            net.train()\n",
    "        \n",
    "print('Training is finished!')"
   ]
  },
  {
   "cell_type": "markdown",
   "metadata": {},
   "source": [
    "*Adam*"
   ]
  },
  {
   "cell_type": "code",
   "execution_count": 25,
   "metadata": {},
   "outputs": [],
   "source": [
    "net = FeedForward(length, batch_size*8)\n",
    "optimizer = torch.optim.Adam(net.parameters(), lr=0.1)\n",
    "criterion = torch.nn.MSELoss()"
   ]
  },
  {
   "cell_type": "code",
   "execution_count": 26,
   "metadata": {},
   "outputs": [
    {
     "name": "stdout",
     "output_type": "stream",
     "text": [
      "Epoch [1/10]. Step [1/121]. Loss: 0.042. Acc: 0.000. Test acc: 0.000\n",
      "Epoch [1/10]. Step [51/121]. Loss: 0.443. Acc: 0.000. Test acc: 0.000\n",
      "Epoch [1/10]. Step [101/121]. Loss: 0.119. Acc: 0.000. Test acc: 0.000\n",
      "Epoch [2/10]. Step [1/121]. Loss: 0.011. Acc: 0.000. Test acc: 0.000\n",
      "Epoch [2/10]. Step [51/121]. Loss: 0.120. Acc: 0.000. Test acc: 0.000\n",
      "Epoch [2/10]. Step [101/121]. Loss: 0.129. Acc: 0.000. Test acc: 0.000\n",
      "Epoch [3/10]. Step [1/121]. Loss: 0.010. Acc: 0.000. Test acc: 0.000\n",
      "Epoch [3/10]. Step [51/121]. Loss: 0.116. Acc: 0.000. Test acc: 0.000\n",
      "Epoch [3/10]. Step [101/121]. Loss: 0.138. Acc: 0.000. Test acc: 0.000\n",
      "Epoch [4/10]. Step [1/121]. Loss: 0.009. Acc: 0.000. Test acc: 0.000\n",
      "Epoch [4/10]. Step [51/121]. Loss: 0.102. Acc: 0.000. Test acc: 0.000\n",
      "Epoch [4/10]. Step [101/121]. Loss: 0.129. Acc: 0.000. Test acc: 0.000\n",
      "Epoch [5/10]. Step [1/121]. Loss: 0.012. Acc: 0.000. Test acc: 0.000\n",
      "Epoch [5/10]. Step [51/121]. Loss: 0.131. Acc: 0.000. Test acc: 0.000\n",
      "Epoch [5/10]. Step [101/121]. Loss: 0.114. Acc: 0.000. Test acc: 0.000\n",
      "Epoch [6/10]. Step [1/121]. Loss: 0.010. Acc: 0.000. Test acc: 0.000\n",
      "Epoch [6/10]. Step [51/121]. Loss: 0.117. Acc: 0.000. Test acc: 0.000\n",
      "Epoch [6/10]. Step [101/121]. Loss: 0.113. Acc: 0.000. Test acc: 0.000\n",
      "Epoch [7/10]. Step [1/121]. Loss: 0.010. Acc: 0.000. Test acc: 0.000\n",
      "Epoch [7/10]. Step [51/121]. Loss: 0.114. Acc: 0.000. Test acc: 0.000\n",
      "Epoch [7/10]. Step [101/121]. Loss: 0.115. Acc: 0.000. Test acc: 0.000\n",
      "Epoch [8/10]. Step [1/121]. Loss: 0.014. Acc: 0.000. Test acc: 0.000\n",
      "Epoch [8/10]. Step [51/121]. Loss: 0.150. Acc: 0.000. Test acc: 0.000\n",
      "Epoch [8/10]. Step [101/121]. Loss: 0.121. Acc: 0.000. Test acc: 0.000\n",
      "Epoch [9/10]. Step [1/121]. Loss: 0.010. Acc: 0.000. Test acc: 0.000\n",
      "Epoch [9/10]. Step [51/121]. Loss: 0.114. Acc: 0.000. Test acc: 0.000\n",
      "Epoch [9/10]. Step [101/121]. Loss: 0.113. Acc: 0.000. Test acc: 0.000\n",
      "Epoch [10/10]. Step [1/121]. Loss: 0.013. Acc: 0.000. Test acc: 0.000\n",
      "Epoch [10/10]. Step [51/121]. Loss: 0.148. Acc: 0.000. Test acc: 0.000\n",
      "Epoch [10/10]. Step [101/121]. Loss: 0.123. Acc: 0.000. Test acc: 0.000\n",
      "Training is finished!\n"
     ]
    }
   ],
   "source": [
    "num_epochs = 10\n",
    "\n",
    "for epoch in range(num_epochs):  \n",
    "    running_loss, running_items, running_right = 0.0, 0.0, 0.0\n",
    "    for i, data in enumerate(train_loader):\n",
    "        inputs, labels = data[0], data[1]\n",
    "\n",
    "        # обнуляем градиент\n",
    "        optimizer.zero_grad()\n",
    "\n",
    "        outputs = net(inputs)\n",
    "        loss = criterion(outputs, labels)\n",
    "        loss.backward()\n",
    "        optimizer.step()\n",
    "\n",
    "        # выводим статистику о процессе обучения\n",
    "        running_loss += loss.item()\n",
    "        running_items += len(labels)\n",
    "#        running_right += (labels == torch.max(outputs, 1)[1]).sum()\n",
    "        \n",
    "        # выводим статистику о процессе обучения\n",
    "        if i % 50 == 0:    # печатаем каждые 50 mini-batches\n",
    "            net.eval()\n",
    "            \n",
    "            print(f'Epoch [{epoch + 1}/{num_epochs}]. ' \\\n",
    "                  f'Step [{i + 1}/{len(train_loader)}]. ' \\\n",
    "                  f'Loss: {running_loss / running_items:.3f}. ' \\\n",
    "                  f'Acc: {running_right / running_items:.3f}', end='. ')\n",
    "            running_loss, running_items, running_right = 0.0, 0.0, 0.0\n",
    "\n",
    "            test_running_right, test_running_total = 0.0, 0.0\n",
    "            for i, data in enumerate(test_loader):\n",
    "                running_loss += loss.item()\n",
    "                test_outputs = net(data[0])\n",
    "                test_running_total += len(data[1])\n",
    "                test_running_right += (data[1] == torch.max(test_outputs, 1)[1]).sum()\n",
    "            \n",
    "            print(f'Test acc: {test_running_right / test_running_total:.3f}')\n",
    "            net.train()\n",
    "        \n",
    "print('Training is finished!')"
   ]
  },
  {
   "cell_type": "markdown",
   "metadata": {},
   "source": [
    "*RMSProp*"
   ]
  },
  {
   "cell_type": "code",
   "execution_count": 27,
   "metadata": {},
   "outputs": [],
   "source": [
    "net = FeedForward(length, batch_size*8)\n",
    "optimizer = torch.optim.RMSprop(net.parameters(), lr=0.1, alpha=0.99)\n",
    "criterion = torch.nn.MSELoss()"
   ]
  },
  {
   "cell_type": "code",
   "execution_count": 28,
   "metadata": {},
   "outputs": [
    {
     "name": "stdout",
     "output_type": "stream",
     "text": [
      "Epoch [1/10]. Step [1/121]. Loss: 0.041. Acc: 0.000. Test acc: 0.000\n",
      "Epoch [1/10]. Step [51/121]. Loss: 0.555. Acc: 0.000. Test acc: 0.000\n",
      "Epoch [1/10]. Step [101/121]. Loss: 0.491. Acc: 0.000. Test acc: 0.000\n",
      "Epoch [2/10]. Step [1/121]. Loss: 0.048. Acc: 0.000. Test acc: 0.000\n",
      "Epoch [2/10]. Step [51/121]. Loss: 0.537. Acc: 0.000. Test acc: 0.000\n",
      "Epoch [2/10]. Step [101/121]. Loss: 0.412. Acc: 0.000. Test acc: 0.000\n",
      "Epoch [3/10]. Step [1/121]. Loss: 0.044. Acc: 0.000. Test acc: 0.000\n",
      "Epoch [3/10]. Step [51/121]. Loss: 0.496. Acc: 0.000. Test acc: 0.000\n",
      "Epoch [3/10]. Step [101/121]. Loss: 0.548. Acc: 0.000. Test acc: 0.000\n",
      "Epoch [4/10]. Step [1/121]. Loss: 0.039. Acc: 0.000. Test acc: 0.000\n",
      "Epoch [4/10]. Step [51/121]. Loss: 0.446. Acc: 0.000. Test acc: 0.000\n",
      "Epoch [4/10]. Step [101/121]. Loss: 0.491. Acc: 0.000. Test acc: 0.000\n",
      "Epoch [5/10]. Step [1/121]. Loss: 0.043. Acc: 0.000. Test acc: 0.000\n",
      "Epoch [5/10]. Step [51/121]. Loss: 0.491. Acc: 0.000. Test acc: 0.000\n",
      "Epoch [5/10]. Step [101/121]. Loss: 0.508. Acc: 0.000. Test acc: 0.000\n",
      "Epoch [6/10]. Step [1/121]. Loss: 0.042. Acc: 0.000. Test acc: 0.000\n",
      "Epoch [6/10]. Step [51/121]. Loss: 0.474. Acc: 0.000. Test acc: 0.000\n",
      "Epoch [6/10]. Step [101/121]. Loss: 0.431. Acc: 0.000. Test acc: 0.000\n",
      "Epoch [7/10]. Step [1/121]. Loss: 0.045. Acc: 0.000. Test acc: 0.000\n",
      "Epoch [7/10]. Step [51/121]. Loss: 0.504. Acc: 0.000. Test acc: 0.000\n",
      "Epoch [7/10]. Step [101/121]. Loss: 0.502. Acc: 0.000. Test acc: 0.000\n",
      "Epoch [8/10]. Step [1/121]. Loss: 0.040. Acc: 0.000. Test acc: 0.000\n",
      "Epoch [8/10]. Step [51/121]. Loss: 0.451. Acc: 0.000. Test acc: 0.000\n",
      "Epoch [8/10]. Step [101/121]. Loss: 0.449. Acc: 0.000. Test acc: 0.000\n",
      "Epoch [9/10]. Step [1/121]. Loss: 0.042. Acc: 0.000. Test acc: 0.000\n",
      "Epoch [9/10]. Step [51/121]. Loss: 0.473. Acc: 0.000. Test acc: 0.000\n",
      "Epoch [9/10]. Step [101/121]. Loss: 0.459. Acc: 0.000. Test acc: 0.000\n",
      "Epoch [10/10]. Step [1/121]. Loss: 0.045. Acc: 0.000. Test acc: 0.000\n",
      "Epoch [10/10]. Step [51/121]. Loss: 0.510. Acc: 0.000. Test acc: 0.000\n",
      "Epoch [10/10]. Step [101/121]. Loss: 0.515. Acc: 0.000. Test acc: 0.000\n",
      "Training is finished!\n"
     ]
    }
   ],
   "source": [
    "num_epochs = 10\n",
    "\n",
    "for epoch in range(num_epochs):  \n",
    "    running_loss, running_items, running_right = 0.0, 0.0, 0.0\n",
    "    for i, data in enumerate(train_loader):\n",
    "        inputs, labels = data[0], data[1]\n",
    "\n",
    "        # обнуляем градиент\n",
    "        optimizer.zero_grad()\n",
    "\n",
    "        outputs = net(inputs)\n",
    "        loss = criterion(outputs, labels)\n",
    "        loss.backward()\n",
    "        optimizer.step()\n",
    "\n",
    "        # выводим статистику о процессе обучения\n",
    "        running_loss += loss.item()\n",
    "        running_items += len(labels)\n",
    "#        running_right += (labels == torch.max(outputs, 1)[1]).sum()\n",
    "        \n",
    "        # выводим статистику о процессе обучения\n",
    "        if i % 50 == 0:    # печатаем каждые 50 mini-batches\n",
    "            net.eval()\n",
    "            \n",
    "            print(f'Epoch [{epoch + 1}/{num_epochs}]. ' \\\n",
    "                  f'Step [{i + 1}/{len(train_loader)}]. ' \\\n",
    "                  f'Loss: {running_loss / running_items:.3f}. ' \\\n",
    "                  f'Acc: {running_right / running_items:.3f}', end='. ')\n",
    "            running_loss, running_items, running_right = 0.0, 0.0, 0.0\n",
    "\n",
    "            test_running_right, test_running_total = 0.0, 0.0\n",
    "            for i, data in enumerate(test_loader):\n",
    "                running_loss += loss.item()\n",
    "                test_outputs = net(data[0])\n",
    "                test_running_total += len(data[1])\n",
    "                test_running_right += (data[1] == torch.max(test_outputs, 1)[1]).sum()\n",
    "            \n",
    "            print(f'Test acc: {test_running_right / test_running_total:.3f}')\n",
    "            net.train()\n",
    "        \n",
    "print('Training is finished!')"
   ]
  },
  {
   "cell_type": "markdown",
   "metadata": {},
   "source": [
    "ВЫВОДЫ: к сожалению так до конца и не разобрался, как применять pytorch на табличных данных"
   ]
  },
  {
   "cell_type": "markdown",
   "metadata": {},
   "source": [
    "Буду очень признателен за предоставление доп информации, чтобы разобраться с этим (примеры ноутбуков других студентов как вариант).\n",
    "Заранее спасибо!"
   ]
  },
  {
   "cell_type": "code",
   "execution_count": null,
   "metadata": {},
   "outputs": [],
   "source": []
  }
 ],
 "metadata": {
  "colab": {
   "provenance": []
  },
  "kernelspec": {
   "display_name": "Python 3",
   "language": "python",
   "name": "python3"
  },
  "language_info": {
   "codemirror_mode": {
    "name": "ipython",
    "version": 3
   },
   "file_extension": ".py",
   "mimetype": "text/x-python",
   "name": "python",
   "nbconvert_exporter": "python",
   "pygments_lexer": "ipython3",
   "version": "3.8.5"
  }
 },
 "nbformat": 4,
 "nbformat_minor": 1
}
