{
  "cells": [
    {
      "cell_type": "markdown",
      "metadata": {
        "id": "MsfaxF-WVsEg"
      },
      "source": [
        "## Фреймворк PyTorch для разработки искусственных нейронных сетей"
      ]
    },
    {
      "cell_type": "markdown",
      "source": [
        "### Домашнее задание №8"
      ],
      "metadata": {
        "id": "U3bnJ_m6JNaH"
      }
    },
    {
      "cell_type": "markdown",
      "source": [
        "**Урок 8. Generative Adversarial Networks**"
      ],
      "metadata": {
        "id": "jjp4DEFfKPsC"
      }
    },
    {
      "cell_type": "markdown",
      "metadata": {
        "id": "kGLPMxn4VsEi"
      },
      "source": [
        "Домашнее задание  \n",
        "Обучить генератор создавать точки, которые будут лежать на графике функции  \n",
        "\n",
        "𝑦=sin(𝑥)/𝑥−𝑥/10\n",
        "\n",
        "При выполнении данного задания структура GAN остается той же, но Вам нужно:\n",
        "Сгенерировать настоящие данные  \n",
        "Изменить архитектуру дискриминатора и генератора  \n",
        "Построить графики\n"
      ]
    },
    {
      "cell_type": "markdown",
      "source": [
        "**Библиотеки**"
      ],
      "metadata": {
        "id": "YzVCjOfCKvh7"
      }
    },
    {
      "cell_type": "code",
      "execution_count": 1,
      "metadata": {
        "id": "ClPNsLzAVsEj"
      },
      "outputs": [],
      "source": [
        "import os\n",
        "import numpy as np\n",
        "import math\n",
        "\n",
        "from torch.utils.data import DataLoader\n",
        "import torchvision.transforms as transforms\n",
        "from torchvision import datasets\n",
        "from torch.autograd import Variable\n",
        "\n",
        "import torch.nn as nn\n",
        "import torch\n",
        "from torch import FloatTensor\n",
        "from torch.nn.functional import normalize\n",
        "\n",
        "import matplotlib.pyplot as plt\n",
        "from IPython import display\n",
        "from torchvision.utils import save_image, make_grid"
      ]
    },
    {
      "cell_type": "code",
      "execution_count": 2,
      "metadata": {
        "colab": {
          "base_uri": "https://localhost:8080/",
          "height": 36
        },
        "id": "extrJ24TVsEk",
        "outputId": "35c4dd29-4324-430e-d909-d199f3c15409"
      },
      "outputs": [
        {
          "output_type": "execute_result",
          "data": {
            "text/plain": [
              "'cuda'"
            ],
            "application/vnd.google.colaboratory.intrinsic+json": {
              "type": "string"
            }
          },
          "metadata": {},
          "execution_count": 2
        }
      ],
      "source": [
        "device = 'cuda' if torch.cuda.is_available() else 'cpu'\n",
        "device"
      ]
    },
    {
      "cell_type": "markdown",
      "source": [
        "Создадим функцию для построения заданной функции"
      ],
      "metadata": {
        "id": "XSMDJPwsLVHF"
      }
    },
    {
      "cell_type": "code",
      "execution_count": 3,
      "metadata": {
        "id": "2VqeZrzTVsEl"
      },
      "outputs": [],
      "source": [
        "def func_y(x):\n",
        "  return np.sin(x)/(x+1e-15) - x/10"
      ]
    },
    {
      "cell_type": "markdown",
      "source": [
        "Сгенерируем синтетические данные и построим график функции"
      ],
      "metadata": {
        "id": "nBCKLylbLbCF"
      }
    },
    {
      "cell_type": "code",
      "execution_count": 4,
      "metadata": {
        "colab": {
          "base_uri": "https://localhost:8080/",
          "height": 265
        },
        "id": "qEe6ewuGVsEl",
        "outputId": "2c6a1763-e023-4511-c8aa-003ea0ed131f"
      },
      "outputs": [
        {
          "output_type": "display_data",
          "data": {
            "text/plain": [
              "<Figure size 432x288 with 1 Axes>"
            ],
            "image/png": "[encoded data removed]"
          },
          "metadata": {
            "needs_background": "light"
          }
        }
      ],
      "source": [
        "x = np.linspace(-30, 30, 2000)\n",
        "y = func_y(x)\n",
        "plt.plot(x, y, 'bo')\n",
        "plt.show()"
      ]
    },
    {
      "cell_type": "code",
      "execution_count": 5,
      "metadata": {
        "colab": {
          "base_uri": "https://localhost:8080/",
          "height": 282
        },
        "id": "PwWOVm_oVsEo",
        "outputId": "d8c1be02-8867-48ad-9d15-db71ce17ec45"
      },
      "outputs": [
        {
          "output_type": "execute_result",
          "data": {
            "text/plain": [
              "[<matplotlib.lines.Line2D at 0x7f6c1ecf1370>]"
            ]
          },
          "metadata": {},
          "execution_count": 5
        },
        {
          "output_type": "display_data",
          "data": {
            "text/plain": [
              "<Figure size 432x288 with 1 Axes>"
            ],
            "image/png": "[encoded data removed]"
          },
          "metadata": {
            "needs_background": "light"
          }
        }
      ],
      "source": [
        "train_points_length = 5000\n",
        "\n",
        "train_points = torch.zeros((train_points_length, 2))\n",
        "train_points[:, 0] = torch.Tensor(np.linspace(-30, 30, train_points_length))\n",
        "\n",
        "train_points[:, 1] = func_y(train_points[:, 0])\n",
        "\n",
        "plt.plot(train_points[:, 0], train_points[:, 1], '.')"
      ]
    },
    {
      "cell_type": "code",
      "execution_count": 6,
      "metadata": {
        "colab": {
          "base_uri": "https://localhost:8080/"
        },
        "id": "UUifA_aiVsEo",
        "outputId": "b0188c6f-2f17-42fd-a858-7c047888c706"
      },
      "outputs": [
        {
          "output_type": "execute_result",
          "data": {
            "text/plain": [
              "[(tensor([-30.0000,   2.9671]), tensor(0.)),\n",
              " (tensor([-29.9880,   2.9658]), tensor(0.)),\n",
              " (tensor([-29.9760,   2.9645]), tensor(0.)),\n",
              " (tensor([-29.9640,   2.9633]), tensor(0.)),\n",
              " (tensor([-29.9520,   2.9620]), tensor(0.))]"
            ]
          },
          "metadata": {},
          "execution_count": 6
        }
      ],
      "source": [
        "train_labels = torch.zeros(train_points_length)\n",
        "\n",
        "train_tensor = [(train_points[i], train_labels[i]) for i in range(train_points_length)]\n",
        "train_tensor[:5]"
      ]
    },
    {
      "cell_type": "code",
      "execution_count": 7,
      "metadata": {
        "id": "emM9JREDVsEp"
      },
      "outputs": [],
      "source": [
        "batch_size = 25\n",
        "train_loader = torch.utils.data.DataLoader(\n",
        "    train_tensor, batch_size=batch_size, shuffle=True\n",
        ")"
      ]
    },
    {
      "cell_type": "code",
      "execution_count": 8,
      "metadata": {
        "colab": {
          "base_uri": "https://localhost:8080/"
        },
        "id": "Hs5MKSdoVsEp",
        "outputId": "41503ce5-6b2a-4b23-c195-88336c091b2b"
      },
      "outputs": [
        {
          "output_type": "stream",
          "name": "stdout",
          "text": [
            "[tensor([[ -1.0022,   0.9410],\n",
            "        [ 27.4555,  -2.7189],\n",
            "        [-15.3211,   1.5567],\n",
            "        [-23.6147,   2.3192],\n",
            "        [ 21.8864,  -2.1839],\n",
            "        [  8.9718,  -0.8484],\n",
            "        [-26.1472,   2.6472],\n",
            "        [-24.1308,   2.3782],\n",
            "        [ -3.8348,   0.2168],\n",
            "        [ 16.1732,  -1.6451],\n",
            "        [ 27.5035,  -2.7250],\n",
            "        [ 15.8612,  -1.5957],\n",
            "        [  5.4071,  -0.6828],\n",
            "        [  6.1752,  -0.6350],\n",
            "        [-20.0980,   2.0570],\n",
            "        [-28.9558,   2.8738],\n",
            "        [ 13.7007,  -1.3039],\n",
            "        [ 17.9376,  -1.8378],\n",
            "        [ 24.7910,  -2.4926],\n",
            "        [  6.7874,  -0.6076],\n",
            "        [ -8.5277,   0.9444],\n",
            "        [-18.8378,   1.8832],\n",
            "        [-23.1106,   2.2721],\n",
            "        [ 14.2769,  -1.3583],\n",
            "        [ 11.2042,  -1.2077]]), tensor([0., 0., 0., 0., 0., 0., 0., 0., 0., 0., 0., 0., 0., 0., 0., 0., 0., 0., 0., 0., 0., 0., 0., 0.,\n",
            "        0.])]\n"
          ]
        }
      ],
      "source": [
        "dataiter = iter(train_loader)\n",
        "data_x = next(dataiter)\n",
        "print(data_x)"
      ]
    },
    {
      "cell_type": "markdown",
      "source": [
        "Зададим параметры обучения"
      ],
      "metadata": {
        "id": "xLMJxItjMd5Y"
      }
    },
    {
      "cell_type": "code",
      "execution_count": 9,
      "metadata": {
        "id": "ASzV5AxtVsEp"
      },
      "outputs": [],
      "source": [
        "n_epochs = 200  # количество эпох\n",
        "lr = 0.000001     # шаг обучения\n",
        "\n",
        "b1 = 0.1        # гиперпараметр для оптимайзера Adam\n",
        "b2 = 0.1      # гиперпараметр для оптимайзера Adam\n",
        "\n",
        "latent_dim = 6    # Размерность случайного вектора, который подается на вход генератору\n",
        "\n",
        "sample_interval = 25  # количество итераций для отображения процесса обучения"
      ]
    },
    {
      "cell_type": "markdown",
      "source": [
        "Создадим архитектуру сети"
      ],
      "metadata": {
        "id": "27jpbghyMh8g"
      }
    },
    {
      "cell_type": "code",
      "execution_count": 10,
      "metadata": {
        "id": "lbiC9lgmVsEq"
      },
      "outputs": [],
      "source": [
        "class Generator(nn.Module):\n",
        "    def __init__(self):\n",
        "        super().__init__()\n",
        "        \n",
        "        # Использование таких словарей позволяет нам варьировать параметры нашей сети в процессе использования\n",
        "        self.activations = nn.ModuleDict([\n",
        "                ['lrelu', nn.LeakyReLU(0.2, inplace=True)],\n",
        "                ['relu', nn.ReLU(0.2)]])\n",
        "        \n",
        "        def block(in_feat, out_feat, normalize=False, activation='relu'): #activation='relu\n",
        "            layers = [nn.Linear(in_feat, out_feat)] # Если мы создаем последовательность слоев - то мы задаем их\n",
        "                                                    # с помощью списка.\n",
        "            if normalize:\n",
        "                layers.append(nn.BatchNorm1d(out_feat, 0.8))\n",
        "            layers.append(self.activations[activation]) # Эта сторчка означает тоже самое что и\n",
        "                                                       # layers.append(nn.LeakyReLU(0.2, inplace=True))\n",
        "            return layers\n",
        "\n",
        "        self.model = nn.Sequential(\n",
        "            *block(latent_dim, 128, normalize=False), # Звездочка означает unpacking списка\n",
        "            *block(128, 256, activation='lrelu'),\n",
        "            *block(256, 512),\n",
        "            *block(512, 1024),\n",
        "            nn.Linear(1024, 2),\n",
        "            nn.LeakyReLU()\n",
        "        )\n",
        "\n",
        "\n",
        "    def forward(self, z):\n",
        "        points = self.model(z)\n",
        "        \n",
        "        return points"
      ]
    },
    {
      "cell_type": "code",
      "execution_count": 11,
      "metadata": {
        "id": "AH6GqzbEVsEq"
      },
      "outputs": [],
      "source": [
        "class Discriminator(nn.Module):\n",
        "    def __init__(self):\n",
        "        super().__init__()\n",
        "\n",
        "        self.model = nn.Sequential(\n",
        "            nn.Linear(2, 512),\n",
        "            nn.LeakyReLU(0.2, inplace=True),\n",
        "            nn.Linear(512, 256),\n",
        "            nn.LeakyReLU(0.2, inplace=True),\n",
        "            nn.Linear(256, 1),\n",
        "            nn.Sigmoid(),\n",
        "        )\n",
        "  \n",
        "\n",
        "    def forward(self, data_in):\n",
        "        \n",
        "        validity = self.model(data_in)\n",
        "\n",
        "        return validity"
      ]
    },
    {
      "cell_type": "code",
      "execution_count": 12,
      "metadata": {
        "id": "zvKOn9jUVsEq"
      },
      "outputs": [],
      "source": [
        "generator = Generator().to(device)\n",
        "discriminator = Discriminator().to(device)\n",
        "\n",
        "# Для каждой нейронки свой опитимизатор\n",
        "optimizer_G = torch.optim.Adam(generator.parameters(), lr=lr, betas=(b1, b2))\n",
        "optimizer_D = torch.optim.Adam(discriminator.parameters(), lr=lr, betas=(b1, b2))\n",
        "\n",
        "# Но вот функция ошибки у нас будет одна общая\n",
        "adversarial_loss = torch.nn.BCELoss()"
      ]
    },
    {
      "cell_type": "code",
      "execution_count": 13,
      "metadata": {
        "id": "JzmZmQbiVsEr"
      },
      "outputs": [],
      "source": [
        "d_loss_history = []\n",
        "g_loss_history = []"
      ]
    },
    {
      "cell_type": "markdown",
      "source": [
        "Визуализация"
      ],
      "metadata": {
        "id": "3XxKOakLMxz-"
      }
    },
    {
      "cell_type": "code",
      "source": [
        "import matplotlib.patches as mpatches\n",
        "\n",
        "for epoch in range(n_epochs):\n",
        "    for i, (imgs, labels) in enumerate(train_loader):\n",
        "        \n",
        "##################### Лейблы для данных: 1 - настоящие, 0 - сгенерированные ########\n",
        "        valid = torch.FloatTensor(batch_size, 1).fill_(1.0).to(device)\n",
        "        fake = torch.FloatTensor(batch_size, 1).fill_(0.0).to(device)\n",
        "\n",
        "        real_imgs = imgs.type(torch.FloatTensor).to(device)\n",
        "\n",
        "        # Генерация шума\n",
        "        z = torch.FloatTensor(np.random.normal(0, 1, (batch_size, latent_dim))).to(device)\n",
        "        \n",
        "        # Генерируем данные Генератором на основе шума\n",
        "        gen_imgs = generator(z)\n",
        "        \n",
        "######################  Тренировка дискриминатора    ##########################\n",
        "        \n",
        "        # Получаем предсказания дискриминатора на основе реальных данных\n",
        "        real_pred = discriminator(real_imgs)\n",
        "        \n",
        "        # Тут сравниваем предсказанные значения Дискриминатора(на основе настоящих данных) с настоящими\n",
        "        d_real_loss = adversarial_loss(real_pred, valid)\n",
        "        \n",
        "        # Подаем сгенерированые данные на Дискриминатор \n",
        "        fake_pred = discriminator(gen_imgs)\n",
        "        \n",
        "        # расчитываем ошибку предсказанного с фейковыми лейблами\n",
        "        d_fake_loss = adversarial_loss(fake_pred, fake)\n",
        "        \n",
        "        # И усредняем два лосса в один\n",
        "        d_loss = (d_real_loss + d_fake_loss) / 2\n",
        "\n",
        "        optimizer_D.zero_grad()\n",
        "        d_loss.backward()\n",
        "        optimizer_D.step()\n",
        "\n",
        "######################  Тренировка генератора    ##########################\n",
        "        \n",
        "        # генерация шума\n",
        "        z = torch.FloatTensor(np.random.normal(0, 1, (batch_size, latent_dim))).to(device)\n",
        "        \n",
        "        # Генерируем данные Генератором на основе шума\n",
        "        gen_points = generator(z)\n",
        "\n",
        "        # Подаем сгенерированые данные на Дискриминатор \n",
        "        fake_pred = discriminator(gen_points)\n",
        "    \n",
        "        # Тут сравниваем предсказанные значения Дискриминатора (на основе сгенерировнных данных) с настоящими\n",
        "        g_loss = adversarial_loss(fake_pred, valid)\n",
        "        \n",
        "        # Делаем шаг обучения нашего Генератора\n",
        "        optimizer_G.zero_grad()\n",
        "        g_loss.backward()\n",
        "        optimizer_G.step()\n",
        "\n",
        "        \n",
        "######## Отображение процесса обучения и вывод функций потерь ############\n",
        "        batches_done = epoch * len(train_loader) + i\n",
        "    \n",
        "        if batches_done % sample_interval == 0:\n",
        "            with torch.no_grad():\n",
        "                plt.clf()\n",
        "\n",
        "                display.clear_output(wait=False)\n",
        "\n",
        "                generated_samples = gen_points.detach().cpu()\n",
        "                plt.plot(generated_samples[:, 0], generated_samples[:, 1], \".\")\n",
        "\n",
        "                print(f\"[Epoch {epoch}/{n_epochs}] [Batch {i}/{len(train_loader)}]\", end='|')\n",
        "                print(f'[D loss: {d_loss.item()}] [G loss: {g_loss.item()}]') \n",
        "\n",
        "\n",
        "                # display.display(plt.gcf())\n",
        "                plt.show()\n",
        "                d_loss = d_loss.cpu().detach()\n",
        "                g_loss = g_loss.cpu().detach()\n",
        "\n",
        "\n",
        "                d_loss_history.append(d_loss)\n",
        "                g_loss_history.append(g_loss)\n",
        "\n",
        "                plt.plot(np.array(d_loss_history), label='D loss')\n",
        "                plt.plot(np.array(g_loss_history), label='G loss')\n",
        "                plt.legend()\n",
        "                plt.show()     "
      ],
      "metadata": {
        "id": "q5pW9Aq7jhV5",
        "colab": {
          "base_uri": "https://localhost:8080/",
          "height": 530
        },
        "outputId": "042d8442-720b-4085-cc2f-7eb5d3549b2f"
      },
      "execution_count": 14,
      "outputs": [
        {
          "output_type": "stream",
          "name": "stdout",
          "text": [
            "[Epoch 199/200] [Batch 175/200]|[D loss: 2.3893678188323975] [G loss: 3.6555964946746826]\n"
          ]
        },
        {
          "output_type": "display_data",
          "data": {
            "text/plain": [
              "<Figure size 432x288 with 1 Axes>"
            ],
            "image/png": "[encoded data removed]"
          },
          "metadata": {
            "needs_background": "light"
          }
        },
        {
          "output_type": "display_data",
          "data": {
            "text/plain": [
              "<Figure size 432x288 with 1 Axes>"
            ],
            "image/png": "[encoded data removed]"
          },
          "metadata": {
            "needs_background": "light"
          }
        }
      ]
    },
    {
      "cell_type": "markdown",
      "source": [
        "Если честно, \"очень интересно, но ничего не понятно\".\n",
        "В процессе обучения график функции регулярно \"зеркалился\", плюс функции потерь тоже имеют очень выраженную волатильность на графике. Варианта, лежащих на поверхности два: или увеличить сложность сети (не факт, что поможет, т.к. судя по опыту некоторые \"работающие\" gan имеют достаточно простую архитектуру), либо увеличить количество эпох обучения, чтобы выявить момент, когда стоит остановиться."
      ],
      "metadata": {
        "id": "Hvgqrg830la6"
      }
    },
    {
      "cell_type": "code",
      "source": [],
      "metadata": {
        "id": "KDa0V3Sh01xt"
      },
      "execution_count": 14,
      "outputs": []
    }
  ],
  "metadata": {
    "kernelspec": {
      "display_name": "Python 3",
      "language": "python",
      "name": "python3"
    },
    "language_info": {
      "codemirror_mode": {
        "name": "ipython",
        "version": 3
      },
      "file_extension": ".py",
      "mimetype": "text/x-python",
      "name": "python",
      "nbconvert_exporter": "python",
      "pygments_lexer": "ipython3",
      "version": "3.8.5"
    },
    "colab": {
      "provenance": []
    },
    "accelerator": "GPU"
  },
  "nbformat": 4,
  "nbformat_minor": 0
}