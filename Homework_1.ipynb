{
  "cells": [
    {
      "cell_type": "code",
      "execution_count": null,
      "metadata": {
        "id": "_CNZn_3CofVO"
      },
      "outputs": [],
      "source": [
        "import torch"
      ]
    },
    {
      "cell_type": "code",
      "execution_count": null,
      "metadata": {
        "id": "QGYTKAxeofVR"
      },
      "outputs": [],
      "source": [
        "# 1. Создайте случайный FloatTensor размера 3x4x5"
      ]
    },
    {
      "cell_type": "code",
      "execution_count": null,
      "metadata": {
        "id": "7GV_q8DdofVV"
      },
      "outputs": [],
      "source": [
        "# 2. Выведите его форму (shape)"
      ]
    },
    {
      "cell_type": "code",
      "execution_count": null,
      "metadata": {
        "id": "f1OTy65FofVX"
      },
      "outputs": [],
      "source": [
        "# 3. Приведите его к форме 6х10"
      ]
    },
    {
      "cell_type": "code",
      "execution_count": null,
      "metadata": {
        "id": "BEVOv9_TofVe"
      },
      "outputs": [],
      "source": [
        "# 4. Создайте случайный IntTensor размера 10"
      ]
    },
    {
      "cell_type": "code",
      "source": [
        "# 5. Умножьте созданный FloatTensor на созданный IntTensor поэлементно"
      ],
      "metadata": {
        "id": "TAX3DUiSa07K"
      },
      "execution_count": null,
      "outputs": []
    },
    {
      "cell_type": "code",
      "execution_count": null,
      "metadata": {
        "id": "eUxdWlQZofVi"
      },
      "outputs": [],
      "source": [
        "# 6. Умножьте тензор матрично на себя, чтобы результат был размерности 6x6\n",
        "# Подсказка: .dot может не подойти"
      ]
    },
    {
      "cell_type": "code",
      "execution_count": null,
      "metadata": {
        "id": "u3V6CsNkofVj"
      },
      "outputs": [],
      "source": [
        "# 7. Посчитайте производную функции y = x**3 + z - 75t в точке (1, 0.5, 2)"
      ]
    },
    {
      "cell_type": "code",
      "execution_count": null,
      "metadata": {
        "id": "FzH6QkyxofVm"
      },
      "outputs": [],
      "source": [
        "# 8. Создайте единичный тензор размера 5x6"
      ]
    },
    {
      "cell_type": "code",
      "execution_count": null,
      "metadata": {
        "id": "z49ttvWPofVo"
      },
      "outputs": [],
      "source": [
        "# 9. Переведите его в формат numpy"
      ]
    }
  ],
  "metadata": {
    "kernelspec": {
      "display_name": "Python 3",
      "language": "python",
      "name": "python3"
    },
    "language_info": {
      "codemirror_mode": {
        "name": "ipython",
        "version": 3
      },
      "file_extension": ".py",
      "mimetype": "text/x-python",
      "name": "python",
      "nbconvert_exporter": "python",
      "pygments_lexer": "ipython3",
      "version": "3.7.4"
    },
    "colab": {
      "name": "HW_1.ipynb",
      "provenance": [],
      "collapsed_sections": []
    }
  },
  "nbformat": 4,
  "nbformat_minor": 0
}