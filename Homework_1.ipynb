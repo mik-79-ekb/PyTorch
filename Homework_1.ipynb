{
 "cells": [
  {
   "cell_type": "markdown",
   "metadata": {},
   "source": [
    "## Фреймворк PyTorch для разработки искусственных нейронных сетей"
   ]
  },
  {
   "cell_type": "markdown",
   "metadata": {},
   "source": [
    "### Домашнее задание №1"
   ]
  },
  {
   "cell_type": "code",
   "execution_count": 2,
   "metadata": {
    "id": "_CNZn_3CofVO"
   },
   "outputs": [],
   "source": [
    "import torch"
   ]
  },
  {
   "cell_type": "markdown",
   "metadata": {
    "id": "QGYTKAxeofVR"
   },
   "source": [
    "**1. Создайте случайный FloatTensor размера 3x4x5**"
   ]
  },
  {
   "cell_type": "code",
   "execution_count": 3,
   "metadata": {},
   "outputs": [
    {
     "name": "stdout",
     "output_type": "stream",
     "text": [
      "tensor([[[0.8361, 0.2487, 0.2342, 0.0537, 0.5055],\n",
      "         [0.0315, 0.9232, 0.7547, 0.9320, 0.6082],\n",
      "         [0.4045, 0.3434, 0.7030, 0.1553, 0.7739],\n",
      "         [0.9118, 0.9329, 0.6341, 0.2137, 0.6676]],\n",
      "\n",
      "        [[0.6964, 0.8377, 0.0188, 0.2922, 0.3973],\n",
      "         [0.6448, 0.0267, 0.2033, 0.4496, 0.2711],\n",
      "         [0.6056, 0.1173, 0.6349, 0.3401, 0.3101],\n",
      "         [0.7127, 0.9649, 0.6416, 0.2217, 0.4968]],\n",
      "\n",
      "        [[0.0801, 0.8348, 0.4347, 0.8849, 0.2907],\n",
      "         [0.7968, 0.8505, 0.7056, 0.2442, 0.5280],\n",
      "         [0.2842, 0.0564, 0.3358, 0.6609, 0.4963],\n",
      "         [0.0202, 0.7164, 0.3472, 0.2301, 0.3367]]])\n",
      "torch.FloatTensor\n"
     ]
    }
   ],
   "source": [
    "X = torch.rand(3,4,5)\n",
    "print(X)\n",
    "print(X.type())"
   ]
  },
  {
   "cell_type": "markdown",
   "metadata": {
    "id": "7GV_q8DdofVV"
   },
   "source": [
    "**2. Выведите его форму (shape)**"
   ]
  },
  {
   "cell_type": "code",
   "execution_count": 4,
   "metadata": {},
   "outputs": [
    {
     "name": "stdout",
     "output_type": "stream",
     "text": [
      "torch.Size([3, 4, 5])\n"
     ]
    }
   ],
   "source": [
    "print(X.shape,)"
   ]
  },
  {
   "cell_type": "markdown",
   "metadata": {
    "id": "f1OTy65FofVX"
   },
   "source": [
    "**3. Приведите его к форме 6х10**"
   ]
  },
  {
   "cell_type": "code",
   "execution_count": 6,
   "metadata": {},
   "outputs": [
    {
     "name": "stdout",
     "output_type": "stream",
     "text": [
      "tensor([[0.8361, 0.2487, 0.2342, 0.0537, 0.5055, 0.0315, 0.9232, 0.7547, 0.9320,\n",
      "         0.6082],\n",
      "        [0.4045, 0.3434, 0.7030, 0.1553, 0.7739, 0.9118, 0.9329, 0.6341, 0.2137,\n",
      "         0.6676],\n",
      "        [0.6964, 0.8377, 0.0188, 0.2922, 0.3973, 0.6448, 0.0267, 0.2033, 0.4496,\n",
      "         0.2711],\n",
      "        [0.6056, 0.1173, 0.6349, 0.3401, 0.3101, 0.7127, 0.9649, 0.6416, 0.2217,\n",
      "         0.4968],\n",
      "        [0.0801, 0.8348, 0.4347, 0.8849, 0.2907, 0.7968, 0.8505, 0.7056, 0.2442,\n",
      "         0.5280],\n",
      "        [0.2842, 0.0564, 0.3358, 0.6609, 0.4963, 0.0202, 0.7164, 0.3472, 0.2301,\n",
      "         0.3367]])\n"
     ]
    }
   ],
   "source": [
    "X = X.reshape(6, 10)\n",
    "print(X)"
   ]
  },
  {
   "cell_type": "markdown",
   "metadata": {
    "id": "BEVOv9_TofVe"
   },
   "source": [
    "**4. Создайте случайный IntTensor размера 10**"
   ]
  },
  {
   "cell_type": "code",
   "execution_count": 7,
   "metadata": {},
   "outputs": [
    {
     "name": "stdout",
     "output_type": "stream",
     "text": [
      "tensor([[3, 5, 6, 5, 9, 1, 3, 6, 4, 5]])\n",
      "torch.LongTensor\n"
     ]
    }
   ],
   "source": [
    "Y = torch.randint(low=1,high=10,size=[1,10])\n",
    "print(Y)\n",
    "print(Y.type())"
   ]
  },
  {
   "cell_type": "markdown",
   "metadata": {
    "id": "TAX3DUiSa07K"
   },
   "source": [
    "**5. Умножьте созданный FloatTensor на созданный IntTensor поэлементно**"
   ]
  },
  {
   "cell_type": "code",
   "execution_count": 8,
   "metadata": {},
   "outputs": [
    {
     "name": "stdout",
     "output_type": "stream",
     "text": [
      "tensor([[2.5083, 1.2436, 1.4054, 0.2684, 4.5499, 0.0315, 2.7695, 4.5280, 3.7281,\n",
      "         3.0408],\n",
      "        [1.2135, 1.7172, 4.2179, 0.7765, 6.9649, 0.9118, 2.7986, 3.8046, 0.8547,\n",
      "         3.3382],\n",
      "        [2.0892, 4.1885, 0.1130, 1.4608, 3.5754, 0.6448, 0.0802, 1.2198, 1.7984,\n",
      "         1.3556],\n",
      "        [1.8167, 0.5866, 3.8093, 1.7006, 2.7909, 0.7127, 2.8947, 3.8498, 0.8866,\n",
      "         2.4839],\n",
      "        [0.2402, 4.1738, 2.6079, 4.4246, 2.6165, 0.7968, 2.5516, 4.2337, 0.9769,\n",
      "         2.6399],\n",
      "        [0.8526, 0.2820, 2.0150, 3.3043, 4.4667, 0.0202, 2.1493, 2.0831, 0.9202,\n",
      "         1.6835]])\n"
     ]
    }
   ],
   "source": [
    "mult_elem = X * Y\n",
    "print(mult_elem)"
   ]
  },
  {
   "cell_type": "markdown",
   "metadata": {
    "id": "eUxdWlQZofVi"
   },
   "source": [
    "**6. Умножьте тензор матрично на себя, чтобы результат был размерности 6x6**  \n",
    "*Подсказка: .dot может не подойти*"
   ]
  },
  {
   "cell_type": "code",
   "execution_count": 9,
   "metadata": {},
   "outputs": [
    {
     "name": "stdout",
     "output_type": "stream",
     "text": [
      "tensor([[3.7355, 2.9615, 1.7939, 2.7654, 2.4624, 1.9599],\n",
      "        [2.9615, 3.9939, 1.9543, 3.3603, 3.3592, 2.0380],\n",
      "        [1.7939, 1.9543, 2.1636, 1.6046, 2.0701, 0.9392],\n",
      "        [2.7654, 3.3603, 1.6046, 3.1420, 2.9713, 1.9173],\n",
      "        [2.4624, 3.3592, 2.0701, 2.9713, 3.9544, 2.0493],\n",
      "        [1.9599, 2.0380, 0.9392, 1.9173, 2.0493, 1.6803]])\n"
     ]
    }
   ],
   "source": [
    "mult_matrix = torch.mm(X,torch.transpose(X, 1, 0))\n",
    "print(mult_matrix)"
   ]
  },
  {
   "cell_type": "markdown",
   "metadata": {
    "id": "u3V6CsNkofVj"
   },
   "source": [
    "**7. Посчитайте производную функции y = x**3 + z - 75t в точке (1, 0.5, 2)**"
   ]
  },
  {
   "cell_type": "code",
   "execution_count": 10,
   "metadata": {},
   "outputs": [],
   "source": [
    "x=torch.tensor(1.0, requires_grad=True) \n",
    "z=torch.tensor(0.5, requires_grad=True) \n",
    "t=torch.tensor(2.0, requires_grad=True) \n",
    "y=x**3+z-75*t \n",
    "y.backward() "
   ]
  },
  {
   "cell_type": "markdown",
   "metadata": {},
   "source": [
    "Производная:"
   ]
  },
  {
   "cell_type": "code",
   "execution_count": 12,
   "metadata": {},
   "outputs": [
    {
     "data": {
      "text/plain": [
       "(tensor(3.), tensor(1.), tensor(-75.))"
      ]
     },
     "execution_count": 12,
     "metadata": {},
     "output_type": "execute_result"
    }
   ],
   "source": [
    "x.grad, z.grad, t.grad "
   ]
  },
  {
   "cell_type": "markdown",
   "metadata": {
    "id": "FzH6QkyxofVm"
   },
   "source": [
    "**8. Создайте единичный тензор размера 5x6**"
   ]
  },
  {
   "cell_type": "code",
   "execution_count": 13,
   "metadata": {},
   "outputs": [
    {
     "name": "stdout",
     "output_type": "stream",
     "text": [
      "tensor([[1., 1., 1., 1., 1., 1.],\n",
      "        [1., 1., 1., 1., 1., 1.],\n",
      "        [1., 1., 1., 1., 1., 1.],\n",
      "        [1., 1., 1., 1., 1., 1.],\n",
      "        [1., 1., 1., 1., 1., 1.]])\n",
      "torch.FloatTensor\n"
     ]
    }
   ],
   "source": [
    "ones = torch.ones([5,6])\n",
    "print(ones)\n",
    "print(ones.type())"
   ]
  },
  {
   "cell_type": "markdown",
   "metadata": {
    "id": "z49ttvWPofVo"
   },
   "source": [
    "**9. Переведите его в формат numpy**"
   ]
  },
  {
   "cell_type": "code",
   "execution_count": 15,
   "metadata": {},
   "outputs": [
    {
     "name": "stdout",
     "output_type": "stream",
     "text": [
      "[[1. 1. 1. 1. 1. 1.]\n",
      " [1. 1. 1. 1. 1. 1.]\n",
      " [1. 1. 1. 1. 1. 1.]\n",
      " [1. 1. 1. 1. 1. 1.]\n",
      " [1. 1. 1. 1. 1. 1.]]\n",
      "<class 'numpy.ndarray'>\n"
     ]
    }
   ],
   "source": [
    "ones = ones.numpy()\n",
    "print(ones)\n",
    "print(type(ones))"
   ]
  },
  {
   "cell_type": "code",
   "execution_count": null,
   "metadata": {},
   "outputs": [],
   "source": []
  }
 ],
 "metadata": {
  "colab": {
   "provenance": []
  },
  "kernelspec": {
   "display_name": "Python 3",
   "language": "python",
   "name": "python3"
  },
  "language_info": {
   "codemirror_mode": {
    "name": "ipython",
    "version": 3
   },
   "file_extension": ".py",
   "mimetype": "text/x-python",
   "name": "python",
   "nbconvert_exporter": "python",
   "pygments_lexer": "ipython3",
   "version": "3.8.5"
  }
 },
 "nbformat": 4,
 "nbformat_minor": 1
}
