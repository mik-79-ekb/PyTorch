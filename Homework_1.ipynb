{
 "cells": [
  {
   "cell_type": "markdown",
   "metadata": {},
   "source": [
    "### Домашнее задание №1"
   ]
  },
  {
   "cell_type": "code",
   "execution_count": 1,
   "metadata": {
    "id": "_CNZn_3CofVO"
   },
   "outputs": [],
   "source": [
    "import torch"
   ]
  },
  {
   "cell_type": "code",
   "execution_count": 2,
   "metadata": {
    "id": "QGYTKAxeofVR"
   },
   "outputs": [],
   "source": [
    "# 1. Создайте случайный FloatTensor размера 3x4x5"
   ]
  },
  {
   "cell_type": "code",
   "execution_count": 3,
   "metadata": {},
   "outputs": [],
   "source": [
    "X = torch.rand(3,4,5)"
   ]
  },
  {
   "cell_type": "code",
   "execution_count": 4,
   "metadata": {},
   "outputs": [
    {
     "name": "stdout",
     "output_type": "stream",
     "text": [
      "tensor([[[0.7969, 0.2347, 0.3844, 0.0568, 0.4446],\n",
      "         [0.1678, 0.6032, 0.9535, 0.6511, 0.5380],\n",
      "         [0.2436, 0.7896, 0.2283, 0.5631, 0.4720],\n",
      "         [0.2518, 0.9949, 0.2689, 0.2494, 0.2125]],\n",
      "\n",
      "        [[0.4864, 0.0557, 0.7199, 0.9189, 0.6148],\n",
      "         [0.8201, 0.8696, 0.2360, 0.3070, 0.4726],\n",
      "         [0.3628, 0.4472, 0.0101, 0.2144, 0.1042],\n",
      "         [0.3940, 0.3935, 0.7907, 0.6644, 0.6256]],\n",
      "\n",
      "        [[0.0861, 0.1552, 0.8336, 0.8521, 0.8031],\n",
      "         [0.4509, 0.8911, 0.4051, 0.8989, 0.6974],\n",
      "         [0.8505, 0.6705, 0.4775, 0.1557, 0.6211],\n",
      "         [0.7651, 0.5684, 0.0171, 0.8807, 0.5570]]])\n",
      "torch.FloatTensor\n"
     ]
    }
   ],
   "source": [
    "print(X)\n",
    "print(X.type())"
   ]
  },
  {
   "cell_type": "code",
   "execution_count": 5,
   "metadata": {
    "id": "7GV_q8DdofVV"
   },
   "outputs": [],
   "source": [
    "# 2. Выведите его форму (shape)"
   ]
  },
  {
   "cell_type": "code",
   "execution_count": 6,
   "metadata": {},
   "outputs": [
    {
     "name": "stdout",
     "output_type": "stream",
     "text": [
      "torch.Size([3, 4, 5])\n"
     ]
    }
   ],
   "source": [
    "print(X.shape,)"
   ]
  },
  {
   "cell_type": "code",
   "execution_count": 7,
   "metadata": {
    "id": "f1OTy65FofVX"
   },
   "outputs": [],
   "source": [
    "# 3. Приведите его к форме 6х10"
   ]
  },
  {
   "cell_type": "code",
   "execution_count": 8,
   "metadata": {},
   "outputs": [
    {
     "name": "stdout",
     "output_type": "stream",
     "text": [
      "tensor([[0.7969, 0.2347, 0.3844, 0.0568, 0.4446, 0.1678, 0.6032, 0.9535, 0.6511,\n",
      "         0.5380],\n",
      "        [0.2436, 0.7896, 0.2283, 0.5631, 0.4720, 0.2518, 0.9949, 0.2689, 0.2494,\n",
      "         0.2125],\n",
      "        [0.4864, 0.0557, 0.7199, 0.9189, 0.6148, 0.8201, 0.8696, 0.2360, 0.3070,\n",
      "         0.4726],\n",
      "        [0.3628, 0.4472, 0.0101, 0.2144, 0.1042, 0.3940, 0.3935, 0.7907, 0.6644,\n",
      "         0.6256],\n",
      "        [0.0861, 0.1552, 0.8336, 0.8521, 0.8031, 0.4509, 0.8911, 0.4051, 0.8989,\n",
      "         0.6974],\n",
      "        [0.8505, 0.6705, 0.4775, 0.1557, 0.6211, 0.7651, 0.5684, 0.0171, 0.8807,\n",
      "         0.5570]])\n"
     ]
    }
   ],
   "source": [
    "X = X.reshape(6, 10)\n",
    "print(X)"
   ]
  },
  {
   "cell_type": "code",
   "execution_count": 9,
   "metadata": {
    "id": "BEVOv9_TofVe"
   },
   "outputs": [],
   "source": [
    "# 4. Создайте случайный IntTensor размера 10"
   ]
  },
  {
   "cell_type": "code",
   "execution_count": 10,
   "metadata": {},
   "outputs": [
    {
     "name": "stdout",
     "output_type": "stream",
     "text": [
      "tensor([[7, 9, 7, 3, 6, 2, 1, 8, 4, 9]])\n",
      "torch.LongTensor\n"
     ]
    }
   ],
   "source": [
    "Y = torch.randint(low=1,high=10,size=[1,10])\n",
    "print(Y)\n",
    "print(Y.type())"
   ]
  },
  {
   "cell_type": "code",
   "execution_count": 11,
   "metadata": {
    "id": "TAX3DUiSa07K"
   },
   "outputs": [],
   "source": [
    "# 5. Умножьте созданный FloatTensor на созданный IntTensor поэлементно"
   ]
  },
  {
   "cell_type": "code",
   "execution_count": 12,
   "metadata": {},
   "outputs": [
    {
     "name": "stdout",
     "output_type": "stream",
     "text": [
      "tensor([[5.5785, 2.1121, 2.6908, 0.1703, 2.6676, 0.3355, 0.6032, 7.6282, 2.6045,\n",
      "         4.8424],\n",
      "        [1.7052, 7.1067, 1.5978, 1.6892, 2.8322, 0.5037, 0.9949, 2.1514, 0.9977,\n",
      "         1.9129],\n",
      "        [3.4045, 0.5014, 5.0391, 2.7568, 3.6889, 1.6402, 0.8696, 1.8880, 1.2282,\n",
      "         4.2535],\n",
      "        [2.5395, 4.0244, 0.0706, 0.6432, 0.6250, 0.7880, 0.3935, 6.3259, 2.6576,\n",
      "         5.6301],\n",
      "        [0.6025, 1.3968, 5.8353, 2.5564, 4.8188, 0.9017, 0.8911, 3.2407, 3.5956,\n",
      "         6.2766],\n",
      "        [5.9533, 6.0342, 3.3423, 0.4670, 3.7263, 1.5303, 0.5684, 0.1368, 3.5226,\n",
      "         5.0126]])\n"
     ]
    }
   ],
   "source": [
    "mult_elem = X * Y\n",
    "print(mult_elem)"
   ]
  },
  {
   "cell_type": "code",
   "execution_count": 13,
   "metadata": {
    "id": "eUxdWlQZofVi"
   },
   "outputs": [],
   "source": [
    "# 6. Умножьте тензор матрично на себя, чтобы результат был размерности 6x6\n",
    "# Подсказка: .dot может не подойти"
   ]
  },
  {
   "cell_type": "code",
   "execution_count": 14,
   "metadata": {},
   "outputs": [
    {
     "name": "stdout",
     "output_type": "stream",
     "text": [
      "tensor([[3.0534, 1.8845, 2.3442, 2.2830, 2.7908, 2.6642],\n",
      "        [1.8845, 2.5077, 2.4465, 1.6157, 2.6741, 2.3271],\n",
      "        [2.3442, 2.4465, 3.7823, 1.8212, 3.7732, 2.9790],\n",
      "        [2.2830, 1.6157, 1.8212, 2.1566, 2.2575, 2.1834],\n",
      "        [2.7908, 2.6741, 3.7732, 2.2575, 4.5533, 3.2451],\n",
      "        [2.6642, 2.3271, 2.9790, 2.1834, 3.2451, 3.8052]])\n"
     ]
    }
   ],
   "source": [
    "mult_matrix = torch.mm(X,torch.transpose(X, 1, 0))\n",
    "print(mult_matrix)"
   ]
  },
  {
   "cell_type": "code",
   "execution_count": 15,
   "metadata": {
    "id": "u3V6CsNkofVj"
   },
   "outputs": [],
   "source": [
    "# 7. Посчитайте производную функции y = x**3 + z - 75t в точке (1, 0.5, 2)"
   ]
  },
  {
   "cell_type": "code",
   "execution_count": 16,
   "metadata": {},
   "outputs": [],
   "source": [
    "x=torch.tensor(1.0, requires_grad=True) \n",
    "z=torch.tensor(0.5, requires_grad=True) \n",
    "t=torch.tensor(2.0, requires_grad=True) \n",
    "y=x**3+z-75*t \n",
    "y.backward() "
   ]
  },
  {
   "cell_type": "code",
   "execution_count": 17,
   "metadata": {},
   "outputs": [
    {
     "data": {
      "text/plain": [
       "tensor(3.)"
      ]
     },
     "execution_count": 17,
     "metadata": {},
     "output_type": "execute_result"
    }
   ],
   "source": [
    "x.grad "
   ]
  },
  {
   "cell_type": "code",
   "execution_count": 18,
   "metadata": {},
   "outputs": [
    {
     "data": {
      "text/plain": [
       "tensor(1.)"
      ]
     },
     "execution_count": 18,
     "metadata": {},
     "output_type": "execute_result"
    }
   ],
   "source": [
    "z.grad"
   ]
  },
  {
   "cell_type": "code",
   "execution_count": 19,
   "metadata": {},
   "outputs": [
    {
     "data": {
      "text/plain": [
       "tensor(-75.)"
      ]
     },
     "execution_count": 19,
     "metadata": {},
     "output_type": "execute_result"
    }
   ],
   "source": [
    "t.grad "
   ]
  },
  {
   "cell_type": "code",
   "execution_count": 20,
   "metadata": {
    "id": "FzH6QkyxofVm"
   },
   "outputs": [],
   "source": [
    "# 8. Создайте единичный тензор размера 5x6"
   ]
  },
  {
   "cell_type": "code",
   "execution_count": 21,
   "metadata": {},
   "outputs": [
    {
     "name": "stdout",
     "output_type": "stream",
     "text": [
      "tensor([[1., 1., 1., 1., 1., 1.],\n",
      "        [1., 1., 1., 1., 1., 1.],\n",
      "        [1., 1., 1., 1., 1., 1.],\n",
      "        [1., 1., 1., 1., 1., 1.],\n",
      "        [1., 1., 1., 1., 1., 1.]])\n",
      "torch.FloatTensor\n"
     ]
    }
   ],
   "source": [
    "ones = torch.ones([5,6])\n",
    "print(ones)\n",
    "print(ones.type())"
   ]
  },
  {
   "cell_type": "code",
   "execution_count": 22,
   "metadata": {
    "id": "z49ttvWPofVo"
   },
   "outputs": [],
   "source": [
    "# 9. Переведите его в формат numpy"
   ]
  },
  {
   "cell_type": "code",
   "execution_count": 23,
   "metadata": {},
   "outputs": [
    {
     "name": "stdout",
     "output_type": "stream",
     "text": [
      "[[1. 1. 1. 1. 1. 1.]\n",
      " [1. 1. 1. 1. 1. 1.]\n",
      " [1. 1. 1. 1. 1. 1.]\n",
      " [1. 1. 1. 1. 1. 1.]\n",
      " [1. 1. 1. 1. 1. 1.]]\n",
      "<class 'numpy.ndarray'>\n"
     ]
    }
   ],
   "source": [
    "ones = ones.numpy()\n",
    "print(ones)\n",
    "print(type(ones))"
   ]
  }
 ],
 "metadata": {
  "colab": {
   "collapsed_sections": [],
   "name": "HW_1.ipynb",
   "provenance": []
  },
  "kernelspec": {
   "display_name": "Python 3",
   "language": "python",
   "name": "python3"
  },
  "language_info": {
   "codemirror_mode": {
    "name": "ipython",
    "version": 3
   },
   "file_extension": ".py",
   "mimetype": "text/x-python",
   "name": "python",
   "nbconvert_exporter": "python",
   "pygments_lexer": "ipython3",
   "version": "3.8.5"
  }
 },
 "nbformat": 4,
 "nbformat_minor": 1
}
